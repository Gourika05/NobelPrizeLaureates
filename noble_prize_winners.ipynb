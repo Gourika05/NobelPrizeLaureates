{
  "cells": [
    {
      "cell_type": "markdown",
      "metadata": {
        "id": "view-in-github",
        "colab_type": "text"
      },
      "source": [
        "<a href=\"https://colab.research.google.com/github/Gourika05/NobelPrizeLaureates/blob/main/noble_prize_winners.ipynb\" target=\"_parent\"><img src=\"https://colab.research.google.com/assets/colab-badge.svg\" alt=\"Open In Colab\"/></a>"
      ]
    },
    {
      "cell_type": "markdown",
      "metadata": {
        "id": "uaeJNZuNxB_p"
      },
      "source": [
        "# noble-prize-winners\n",
        "\n",
        "Use the \"Run\" button to execute the code."
      ]
    },
    {
      "cell_type": "code",
      "source": [
        "!pip install jovian --upgrade -q\n",
        "import jovian\n",
        "jovian.set_project('noble-prize-winners')\n",
        "jovian.set_colab_id('1hKMQhdcB_nRJux_NWoreaG0BkYfGX-q2?authuser=1#scrollTo=CYubREngxHg7')"
      ],
      "metadata": {
        "colab": {
          "base_uri": "https://localhost:8080/"
        },
        "id": "CYubREngxHg7",
        "outputId": "0d044518-1461-4547-f829-7db52446899a"
      },
      "execution_count": 1,
      "outputs": [
        {
          "output_type": "stream",
          "name": "stdout",
          "text": [
            "\u001b[?25l     \u001b[90m━━━━━━━━━━━━━━━━━━━━━━━━━━━━━━━━━━━━━━━━\u001b[0m \u001b[32m0.0/68.6 kB\u001b[0m \u001b[31m?\u001b[0m eta \u001b[36m-:--:--\u001b[0m\r\u001b[2K     \u001b[91m━━━━━━━━━━━━━━━━━━━━━━━━━━━━━━━━━━━\u001b[0m\u001b[91m╸\u001b[0m\u001b[90m━━━━\u001b[0m \u001b[32m61.4/68.6 kB\u001b[0m \u001b[31m1.7 MB/s\u001b[0m eta \u001b[36m0:00:01\u001b[0m\r\u001b[2K     \u001b[90m━━━━━━━━━━━━━━━━━━━━━━━━━━━━━━━━━━━━━━━━\u001b[0m \u001b[32m68.6/68.6 kB\u001b[0m \u001b[31m1.4 MB/s\u001b[0m eta \u001b[36m0:00:00\u001b[0m\n",
            "\u001b[?25h  Preparing metadata (setup.py) ... \u001b[?25l\u001b[?25hdone\n",
            "  Building wheel for uuid (setup.py) ... \u001b[?25l\u001b[?25hdone\n"
          ]
        }
      ]
    },
    {
      "cell_type": "code",
      "source": [
        "data_filename ='/content/nobel-prize/nobel-prize-laureates.csv'"
      ],
      "metadata": {
        "id": "4OKKjc24B6za"
      },
      "execution_count": 2,
      "outputs": []
    },
    {
      "cell_type": "markdown",
      "source": [
        "## Noble Prize Winners Exploratory Data analysis\n",
        "TODO - talk about EDA\n",
        "TODO - talk about dataset(source,content,use)\n",
        "- kaggle\n",
        "-information about various noble prize winners\n",
        "- helps in understanding contributions made by them\n",
        "\n",
        "- does not give data about no of nobel prizes received\n",
        "- does not provide information about why they were awarded the nobel prize"
      ],
      "metadata": {
        "id": "FI5j5VjXyDdD"
      }
    },
    {
      "cell_type": "markdown",
      "source": [
        "## download the data"
      ],
      "metadata": {
        "id": "butwy9ToyNHk"
      }
    },
    {
      "cell_type": "code",
      "source": [
        "pip install opendatasets --upgrade --quiet"
      ],
      "metadata": {
        "id": "hCpkePIpyShM"
      },
      "execution_count": 4,
      "outputs": []
    },
    {
      "cell_type": "code",
      "source": [
        "import opendatasets as od\n",
        "\n",
        "download_url= 'https://www.kaggle.com/datasets/joebeachcapital/nobel-prize'\n",
        "\n",
        "od.download(download_url)"
      ],
      "metadata": {
        "colab": {
          "base_uri": "https://localhost:8080/"
        },
        "id": "G0hs4Eoy_wqS",
        "outputId": "4f8a3ec8-f3c5-4960-b5a0-c29b40d49b16"
      },
      "execution_count": 5,
      "outputs": [
        {
          "output_type": "stream",
          "name": "stdout",
          "text": [
            "Please provide your Kaggle credentials to download this dataset. Learn more: http://bit.ly/kaggle-creds\n",
            "Your Kaggle username: gourikajsreenivas\n",
            "Your Kaggle Key: ··········\n",
            "Downloading nobel-prize.zip to ./nobel-prize\n"
          ]
        },
        {
          "output_type": "stream",
          "name": "stderr",
          "text": [
            "100%|██████████| 162M/162M [00:08<00:00, 20.9MB/s]\n"
          ]
        },
        {
          "output_type": "stream",
          "name": "stdout",
          "text": [
            "\n"
          ]
        }
      ]
    },
    {
      "cell_type": "markdown",
      "source": [
        "## data preparation and cleaning\n",
        "\n",
        "-load the file using pandas\n",
        "- look at information\n",
        "- fix any missing or incorrect values\n",
        "\n"
      ],
      "metadata": {
        "id": "Ks5_2JsEyS7Y"
      }
    },
    {
      "cell_type": "code",
      "source": [
        "import pandas as pd"
      ],
      "metadata": {
        "id": "cSpm64wRyfds"
      },
      "execution_count": 6,
      "outputs": []
    },
    {
      "cell_type": "code",
      "source": [
        "df=pd.read_csv(data_filename, sep=\";\")"
      ],
      "metadata": {
        "id": "QGdkbZ-zDMfE"
      },
      "execution_count": 23,
      "outputs": []
    },
    {
      "cell_type": "code",
      "source": [
        "df.head(20)"
      ],
      "metadata": {
        "colab": {
          "base_uri": "https://localhost:8080/",
          "height": 1000
        },
        "id": "uklrgb9Zhty5",
        "outputId": "6dfb6fc5-c264-4de2-fb62-d76806ce7970"
      },
      "execution_count": 31,
      "outputs": [
        {
          "output_type": "execute_result",
          "data": {
            "text/plain": [
              "     Id              Firstname          Surname        Born        Died  \\\n",
              "0   820                 Leonid          Hurwicz  1917-08-21  2008-06-24   \n",
              "1    28              Robert A.         Millikan  1868-03-22  1953-12-19   \n",
              "2    90                 Murray        Gell-Mann  1929-09-15  2019-05-24   \n",
              "3   562  Carlos Filipe Ximenes             Belo  1948-02-03         NaN   \n",
              "4   569                  Sully        Prudhomme  1839-03-16  1907-09-07   \n",
              "5   572           Bjørnstjerne         Bjørnson  1832-12-08  1910-04-26   \n",
              "6   585                 Verner   von Heidenstam  1859-07-06  1940-05-20   \n",
              "7   625                 Ernest        Hemingway  1899-07-21  1961-07-02   \n",
              "8   626                Halldór          Laxness  1902-04-23  1998-02-08   \n",
              "9   666            Camilo José             Cela  1916-05-11  2002-01-17   \n",
              "10  673                Wislawa       Szymborska  1923-07-02  2012-02-01   \n",
              "11  698                Richard            Stone  1913-08-30  1991-12-06   \n",
              "12  733              Daniel L.         McFadden  1937-07-29         NaN   \n",
              "13  402               Nikolaas        Tinbergen  1907-04-15  1988-12-21   \n",
              "14  407                 Renato         Dulbecco  1914-02-22  2012-02-19   \n",
              "15  409              Baruch S.         Blumberg  1925-07-28  2011-04-05   \n",
              "16  457             Stanley B.         Prusiner  1942-05-28         NaN   \n",
              "17  110                  Pyotr          Kapitsa  1894-07-09  1984-04-08   \n",
              "18  128                   Gerd           Binnig  1947-07-20         NaN   \n",
              "19  153                 Claude  Cohen-Tannoudji  1933-04-01         NaN   \n",
              "\n",
              "                    Born country Born country code              Born city  \\\n",
              "0                         Russia                RU                 Moscow   \n",
              "1                            USA                US            Morrison IL   \n",
              "2                            USA                US            New York NY   \n",
              "3                     East Timor                TL              Wailacama   \n",
              "4                         France                FR                  Paris   \n",
              "5                         Norway                NO                 Kvikne   \n",
              "6                         Sweden                SE              Olshammar   \n",
              "7                            USA                US            Oak Park IL   \n",
              "8                        Iceland                IS              Reykjavik   \n",
              "9                          Spain                ES            Iria Flavia   \n",
              "10                        Poland                PL      Bnin (now Kórnik)   \n",
              "11                United Kingdom                GB                 London   \n",
              "12                           USA                US             Raleigh NC   \n",
              "13               the Netherlands                NL              the Hague   \n",
              "14                         Italy                IT              Catanzaro   \n",
              "15                           USA                US            New York NY   \n",
              "16                           USA                US          Des Moines IA   \n",
              "17   Russian Empire (now Russia)                RU             Kronshtadt   \n",
              "18    West Germany (now Germany)                DE  Frankfurt-on-the-Main   \n",
              "19  French Algeria (now Algeria)                DZ            Constantine   \n",
              "\n",
              "         Died country Died country code  ...  Gender  Year    Category  \\\n",
              "0                 USA                US  ...    male  2007   Economics   \n",
              "1                 USA                US  ...    male  1923     Physics   \n",
              "2                 USA                US  ...    male  1969     Physics   \n",
              "3                 NaN               NaN  ...    male  1996       Peace   \n",
              "4              France                FR  ...    male  1901  Literature   \n",
              "5              France                FR  ...    male  1903  Literature   \n",
              "6              Sweden                SE  ...    male  1916  Literature   \n",
              "7                 USA                US  ...    male  1954  Literature   \n",
              "8             Iceland                IS  ...    male  1955  Literature   \n",
              "9               Spain                ES  ...    male  1989  Literature   \n",
              "10             Poland                PL  ...  female  1996  Literature   \n",
              "11     United Kingdom                GB  ...    male  1984   Economics   \n",
              "12                NaN               NaN  ...    male  2000   Economics   \n",
              "13     United Kingdom                GB  ...    male  1973    Medicine   \n",
              "14                USA                US  ...    male  1975    Medicine   \n",
              "15                USA                US  ...    male  1976    Medicine   \n",
              "16                NaN               NaN  ...    male  1997    Medicine   \n",
              "17  USSR (now Russia)                RU  ...    male  1978     Physics   \n",
              "18                NaN               NaN  ...    male  1986     Physics   \n",
              "19                NaN               NaN  ...    male  1997     Physics   \n",
              "\n",
              "   Overall motivation                                         Motivation  \\\n",
              "0                 NaN  \"for having laid the foundations of mechanism ...   \n",
              "1                 NaN  \"for his work on the elementary charge of elec...   \n",
              "2                 NaN  \"for his contributions and discoveries concern...   \n",
              "3                 NaN  \"for their work towards a just and peaceful so...   \n",
              "4                 NaN  \"in special recognition of his poetic composit...   \n",
              "5                 NaN  \"as a tribute to his noble magnificent and ver...   \n",
              "6                 NaN  \"in recognition of his significance as the lea...   \n",
              "7                 NaN  \"for his mastery of the art of narrative most ...   \n",
              "8                 NaN  \"for his vivid epic power which has renewed th...   \n",
              "9                 NaN  \"for a rich and intensive prose which with res...   \n",
              "10                NaN  \"for poetry that with ironic precision allows ...   \n",
              "11                NaN  \"for having made fundamental contributions to ...   \n",
              "12                NaN  \"for his development of theory and methods for...   \n",
              "13                NaN  \"for their discoveries concerning organization...   \n",
              "14                NaN  \"for their discoveries concerning the interact...   \n",
              "15                NaN  \"for their discoveries concerning new mechanis...   \n",
              "16                NaN  \"for his discovery of Prions - a new biologica...   \n",
              "17                NaN  \"for his basic inventions and discoveries in t...   \n",
              "18                NaN  \"for their design of the scanning tunneling mi...   \n",
              "19                NaN  \"for development of methods to cool and trap a...   \n",
              "\n",
              "                               Organization name Organization city  \\\n",
              "0                        University of Minnesota    Minneapolis MN   \n",
              "1   California Institute of Technology (Caltech)       Pasadena CA   \n",
              "2   California Institute of Technology (Caltech)       Pasadena CA   \n",
              "3                                            NaN               NaN   \n",
              "4                                            NaN               NaN   \n",
              "5                                            NaN               NaN   \n",
              "6                                            NaN               NaN   \n",
              "7                                            NaN               NaN   \n",
              "8                                            NaN               NaN   \n",
              "9                                            NaN               NaN   \n",
              "10                                           NaN               NaN   \n",
              "11                       University of Cambridge         Cambridge   \n",
              "12                      University of California       Berkeley CA   \n",
              "13                          University of Oxford            Oxford   \n",
              "14      Imperial Cancer Research Fund Laboratory            London   \n",
              "15             The Institute for Cancer Research   Philadelphia PA   \n",
              "16   University of California School of Medicine  San Francisco CA   \n",
              "17                           Academy of Sciences            Moscow   \n",
              "18                IBM Zurich Research Laboratory        Rüschlikon   \n",
              "19                             Collège de France             Paris   \n",
              "\n",
              "   Organization country                                          Geo Shape  \\\n",
              "0                   USA  {\"coordinates\": [[[[-155.60651897, 20.13795556...   \n",
              "1                   USA  {\"coordinates\": [[[[-155.60651897, 20.13795556...   \n",
              "2                   USA  {\"coordinates\": [[[[-155.60651897, 20.13795556...   \n",
              "3                   NaN                                                NaN   \n",
              "4                   NaN                                                NaN   \n",
              "5                   NaN                                                NaN   \n",
              "6                   NaN                                                NaN   \n",
              "7                   NaN                                                NaN   \n",
              "8                   NaN                                                NaN   \n",
              "9                   NaN                                                NaN   \n",
              "10                  NaN                                                NaN   \n",
              "11       United Kingdom                                                NaN   \n",
              "12                  USA  {\"coordinates\": [[[[-155.60651897, 20.13795556...   \n",
              "13       United Kingdom                                                NaN   \n",
              "14       United Kingdom                                                NaN   \n",
              "15                  USA  {\"coordinates\": [[[[-155.60651897, 20.13795556...   \n",
              "16                  USA  {\"coordinates\": [[[[-155.60651897, 20.13795556...   \n",
              "17    USSR (now Russia)  {\"coordinates\": [[[[132.448985222, 42.84540436...   \n",
              "18          Switzerland  {\"coordinates\": [[[8.617437378, 47.757318624],...   \n",
              "19               France  {\"coordinates\": [[[[55.501312696, -20.87322356...   \n",
              "\n",
              "                               Geo Point 2D  \n",
              "0    45.68753333949257, -112.49433391594603  \n",
              "1    45.68753333949257, -112.49433391594603  \n",
              "2    45.68753333949257, -112.49433391594603  \n",
              "3                                       NaN  \n",
              "4                                       NaN  \n",
              "5                                       NaN  \n",
              "6                                       NaN  \n",
              "7                                       NaN  \n",
              "8                                       NaN  \n",
              "9                                       NaN  \n",
              "10                                      NaN  \n",
              "11                                      NaN  \n",
              "12   45.68753333949257, -112.49433391594603  \n",
              "13                                      NaN  \n",
              "14                                      NaN  \n",
              "15   45.68753333949257, -112.49433391594603  \n",
              "16   45.68753333949257, -112.49433391594603  \n",
              "17      61.98434173753368, 96.6934557674586  \n",
              "18     46.79908592207713, 8.215912661532034  \n",
              "19  42.182029178537626, -2.7544221494581898  \n",
              "\n",
              "[20 rows x 21 columns]"
            ],
            "text/html": [
              "\n",
              "  <div id=\"df-af8a0ea8-4a46-4ac8-b894-faaf3fadf145\" class=\"colab-df-container\">\n",
              "    <div>\n",
              "<style scoped>\n",
              "    .dataframe tbody tr th:only-of-type {\n",
              "        vertical-align: middle;\n",
              "    }\n",
              "\n",
              "    .dataframe tbody tr th {\n",
              "        vertical-align: top;\n",
              "    }\n",
              "\n",
              "    .dataframe thead th {\n",
              "        text-align: right;\n",
              "    }\n",
              "</style>\n",
              "<table border=\"1\" class=\"dataframe\">\n",
              "  <thead>\n",
              "    <tr style=\"text-align: right;\">\n",
              "      <th></th>\n",
              "      <th>Id</th>\n",
              "      <th>Firstname</th>\n",
              "      <th>Surname</th>\n",
              "      <th>Born</th>\n",
              "      <th>Died</th>\n",
              "      <th>Born country</th>\n",
              "      <th>Born country code</th>\n",
              "      <th>Born city</th>\n",
              "      <th>Died country</th>\n",
              "      <th>Died country code</th>\n",
              "      <th>...</th>\n",
              "      <th>Gender</th>\n",
              "      <th>Year</th>\n",
              "      <th>Category</th>\n",
              "      <th>Overall motivation</th>\n",
              "      <th>Motivation</th>\n",
              "      <th>Organization name</th>\n",
              "      <th>Organization city</th>\n",
              "      <th>Organization country</th>\n",
              "      <th>Geo Shape</th>\n",
              "      <th>Geo Point 2D</th>\n",
              "    </tr>\n",
              "  </thead>\n",
              "  <tbody>\n",
              "    <tr>\n",
              "      <th>0</th>\n",
              "      <td>820</td>\n",
              "      <td>Leonid</td>\n",
              "      <td>Hurwicz</td>\n",
              "      <td>1917-08-21</td>\n",
              "      <td>2008-06-24</td>\n",
              "      <td>Russia</td>\n",
              "      <td>RU</td>\n",
              "      <td>Moscow</td>\n",
              "      <td>USA</td>\n",
              "      <td>US</td>\n",
              "      <td>...</td>\n",
              "      <td>male</td>\n",
              "      <td>2007</td>\n",
              "      <td>Economics</td>\n",
              "      <td>NaN</td>\n",
              "      <td>\"for having laid the foundations of mechanism ...</td>\n",
              "      <td>University of Minnesota</td>\n",
              "      <td>Minneapolis MN</td>\n",
              "      <td>USA</td>\n",
              "      <td>{\"coordinates\": [[[[-155.60651897, 20.13795556...</td>\n",
              "      <td>45.68753333949257, -112.49433391594603</td>\n",
              "    </tr>\n",
              "    <tr>\n",
              "      <th>1</th>\n",
              "      <td>28</td>\n",
              "      <td>Robert A.</td>\n",
              "      <td>Millikan</td>\n",
              "      <td>1868-03-22</td>\n",
              "      <td>1953-12-19</td>\n",
              "      <td>USA</td>\n",
              "      <td>US</td>\n",
              "      <td>Morrison IL</td>\n",
              "      <td>USA</td>\n",
              "      <td>US</td>\n",
              "      <td>...</td>\n",
              "      <td>male</td>\n",
              "      <td>1923</td>\n",
              "      <td>Physics</td>\n",
              "      <td>NaN</td>\n",
              "      <td>\"for his work on the elementary charge of elec...</td>\n",
              "      <td>California Institute of Technology (Caltech)</td>\n",
              "      <td>Pasadena CA</td>\n",
              "      <td>USA</td>\n",
              "      <td>{\"coordinates\": [[[[-155.60651897, 20.13795556...</td>\n",
              "      <td>45.68753333949257, -112.49433391594603</td>\n",
              "    </tr>\n",
              "    <tr>\n",
              "      <th>2</th>\n",
              "      <td>90</td>\n",
              "      <td>Murray</td>\n",
              "      <td>Gell-Mann</td>\n",
              "      <td>1929-09-15</td>\n",
              "      <td>2019-05-24</td>\n",
              "      <td>USA</td>\n",
              "      <td>US</td>\n",
              "      <td>New York NY</td>\n",
              "      <td>USA</td>\n",
              "      <td>US</td>\n",
              "      <td>...</td>\n",
              "      <td>male</td>\n",
              "      <td>1969</td>\n",
              "      <td>Physics</td>\n",
              "      <td>NaN</td>\n",
              "      <td>\"for his contributions and discoveries concern...</td>\n",
              "      <td>California Institute of Technology (Caltech)</td>\n",
              "      <td>Pasadena CA</td>\n",
              "      <td>USA</td>\n",
              "      <td>{\"coordinates\": [[[[-155.60651897, 20.13795556...</td>\n",
              "      <td>45.68753333949257, -112.49433391594603</td>\n",
              "    </tr>\n",
              "    <tr>\n",
              "      <th>3</th>\n",
              "      <td>562</td>\n",
              "      <td>Carlos Filipe Ximenes</td>\n",
              "      <td>Belo</td>\n",
              "      <td>1948-02-03</td>\n",
              "      <td>NaN</td>\n",
              "      <td>East Timor</td>\n",
              "      <td>TL</td>\n",
              "      <td>Wailacama</td>\n",
              "      <td>NaN</td>\n",
              "      <td>NaN</td>\n",
              "      <td>...</td>\n",
              "      <td>male</td>\n",
              "      <td>1996</td>\n",
              "      <td>Peace</td>\n",
              "      <td>NaN</td>\n",
              "      <td>\"for their work towards a just and peaceful so...</td>\n",
              "      <td>NaN</td>\n",
              "      <td>NaN</td>\n",
              "      <td>NaN</td>\n",
              "      <td>NaN</td>\n",
              "      <td>NaN</td>\n",
              "    </tr>\n",
              "    <tr>\n",
              "      <th>4</th>\n",
              "      <td>569</td>\n",
              "      <td>Sully</td>\n",
              "      <td>Prudhomme</td>\n",
              "      <td>1839-03-16</td>\n",
              "      <td>1907-09-07</td>\n",
              "      <td>France</td>\n",
              "      <td>FR</td>\n",
              "      <td>Paris</td>\n",
              "      <td>France</td>\n",
              "      <td>FR</td>\n",
              "      <td>...</td>\n",
              "      <td>male</td>\n",
              "      <td>1901</td>\n",
              "      <td>Literature</td>\n",
              "      <td>NaN</td>\n",
              "      <td>\"in special recognition of his poetic composit...</td>\n",
              "      <td>NaN</td>\n",
              "      <td>NaN</td>\n",
              "      <td>NaN</td>\n",
              "      <td>NaN</td>\n",
              "      <td>NaN</td>\n",
              "    </tr>\n",
              "    <tr>\n",
              "      <th>5</th>\n",
              "      <td>572</td>\n",
              "      <td>Bjørnstjerne</td>\n",
              "      <td>Bjørnson</td>\n",
              "      <td>1832-12-08</td>\n",
              "      <td>1910-04-26</td>\n",
              "      <td>Norway</td>\n",
              "      <td>NO</td>\n",
              "      <td>Kvikne</td>\n",
              "      <td>France</td>\n",
              "      <td>FR</td>\n",
              "      <td>...</td>\n",
              "      <td>male</td>\n",
              "      <td>1903</td>\n",
              "      <td>Literature</td>\n",
              "      <td>NaN</td>\n",
              "      <td>\"as a tribute to his noble magnificent and ver...</td>\n",
              "      <td>NaN</td>\n",
              "      <td>NaN</td>\n",
              "      <td>NaN</td>\n",
              "      <td>NaN</td>\n",
              "      <td>NaN</td>\n",
              "    </tr>\n",
              "    <tr>\n",
              "      <th>6</th>\n",
              "      <td>585</td>\n",
              "      <td>Verner</td>\n",
              "      <td>von Heidenstam</td>\n",
              "      <td>1859-07-06</td>\n",
              "      <td>1940-05-20</td>\n",
              "      <td>Sweden</td>\n",
              "      <td>SE</td>\n",
              "      <td>Olshammar</td>\n",
              "      <td>Sweden</td>\n",
              "      <td>SE</td>\n",
              "      <td>...</td>\n",
              "      <td>male</td>\n",
              "      <td>1916</td>\n",
              "      <td>Literature</td>\n",
              "      <td>NaN</td>\n",
              "      <td>\"in recognition of his significance as the lea...</td>\n",
              "      <td>NaN</td>\n",
              "      <td>NaN</td>\n",
              "      <td>NaN</td>\n",
              "      <td>NaN</td>\n",
              "      <td>NaN</td>\n",
              "    </tr>\n",
              "    <tr>\n",
              "      <th>7</th>\n",
              "      <td>625</td>\n",
              "      <td>Ernest</td>\n",
              "      <td>Hemingway</td>\n",
              "      <td>1899-07-21</td>\n",
              "      <td>1961-07-02</td>\n",
              "      <td>USA</td>\n",
              "      <td>US</td>\n",
              "      <td>Oak Park IL</td>\n",
              "      <td>USA</td>\n",
              "      <td>US</td>\n",
              "      <td>...</td>\n",
              "      <td>male</td>\n",
              "      <td>1954</td>\n",
              "      <td>Literature</td>\n",
              "      <td>NaN</td>\n",
              "      <td>\"for his mastery of the art of narrative most ...</td>\n",
              "      <td>NaN</td>\n",
              "      <td>NaN</td>\n",
              "      <td>NaN</td>\n",
              "      <td>NaN</td>\n",
              "      <td>NaN</td>\n",
              "    </tr>\n",
              "    <tr>\n",
              "      <th>8</th>\n",
              "      <td>626</td>\n",
              "      <td>Halldór</td>\n",
              "      <td>Laxness</td>\n",
              "      <td>1902-04-23</td>\n",
              "      <td>1998-02-08</td>\n",
              "      <td>Iceland</td>\n",
              "      <td>IS</td>\n",
              "      <td>Reykjavik</td>\n",
              "      <td>Iceland</td>\n",
              "      <td>IS</td>\n",
              "      <td>...</td>\n",
              "      <td>male</td>\n",
              "      <td>1955</td>\n",
              "      <td>Literature</td>\n",
              "      <td>NaN</td>\n",
              "      <td>\"for his vivid epic power which has renewed th...</td>\n",
              "      <td>NaN</td>\n",
              "      <td>NaN</td>\n",
              "      <td>NaN</td>\n",
              "      <td>NaN</td>\n",
              "      <td>NaN</td>\n",
              "    </tr>\n",
              "    <tr>\n",
              "      <th>9</th>\n",
              "      <td>666</td>\n",
              "      <td>Camilo José</td>\n",
              "      <td>Cela</td>\n",
              "      <td>1916-05-11</td>\n",
              "      <td>2002-01-17</td>\n",
              "      <td>Spain</td>\n",
              "      <td>ES</td>\n",
              "      <td>Iria Flavia</td>\n",
              "      <td>Spain</td>\n",
              "      <td>ES</td>\n",
              "      <td>...</td>\n",
              "      <td>male</td>\n",
              "      <td>1989</td>\n",
              "      <td>Literature</td>\n",
              "      <td>NaN</td>\n",
              "      <td>\"for a rich and intensive prose which with res...</td>\n",
              "      <td>NaN</td>\n",
              "      <td>NaN</td>\n",
              "      <td>NaN</td>\n",
              "      <td>NaN</td>\n",
              "      <td>NaN</td>\n",
              "    </tr>\n",
              "    <tr>\n",
              "      <th>10</th>\n",
              "      <td>673</td>\n",
              "      <td>Wislawa</td>\n",
              "      <td>Szymborska</td>\n",
              "      <td>1923-07-02</td>\n",
              "      <td>2012-02-01</td>\n",
              "      <td>Poland</td>\n",
              "      <td>PL</td>\n",
              "      <td>Bnin (now Kórnik)</td>\n",
              "      <td>Poland</td>\n",
              "      <td>PL</td>\n",
              "      <td>...</td>\n",
              "      <td>female</td>\n",
              "      <td>1996</td>\n",
              "      <td>Literature</td>\n",
              "      <td>NaN</td>\n",
              "      <td>\"for poetry that with ironic precision allows ...</td>\n",
              "      <td>NaN</td>\n",
              "      <td>NaN</td>\n",
              "      <td>NaN</td>\n",
              "      <td>NaN</td>\n",
              "      <td>NaN</td>\n",
              "    </tr>\n",
              "    <tr>\n",
              "      <th>11</th>\n",
              "      <td>698</td>\n",
              "      <td>Richard</td>\n",
              "      <td>Stone</td>\n",
              "      <td>1913-08-30</td>\n",
              "      <td>1991-12-06</td>\n",
              "      <td>United Kingdom</td>\n",
              "      <td>GB</td>\n",
              "      <td>London</td>\n",
              "      <td>United Kingdom</td>\n",
              "      <td>GB</td>\n",
              "      <td>...</td>\n",
              "      <td>male</td>\n",
              "      <td>1984</td>\n",
              "      <td>Economics</td>\n",
              "      <td>NaN</td>\n",
              "      <td>\"for having made fundamental contributions to ...</td>\n",
              "      <td>University of Cambridge</td>\n",
              "      <td>Cambridge</td>\n",
              "      <td>United Kingdom</td>\n",
              "      <td>NaN</td>\n",
              "      <td>NaN</td>\n",
              "    </tr>\n",
              "    <tr>\n",
              "      <th>12</th>\n",
              "      <td>733</td>\n",
              "      <td>Daniel L.</td>\n",
              "      <td>McFadden</td>\n",
              "      <td>1937-07-29</td>\n",
              "      <td>NaN</td>\n",
              "      <td>USA</td>\n",
              "      <td>US</td>\n",
              "      <td>Raleigh NC</td>\n",
              "      <td>NaN</td>\n",
              "      <td>NaN</td>\n",
              "      <td>...</td>\n",
              "      <td>male</td>\n",
              "      <td>2000</td>\n",
              "      <td>Economics</td>\n",
              "      <td>NaN</td>\n",
              "      <td>\"for his development of theory and methods for...</td>\n",
              "      <td>University of California</td>\n",
              "      <td>Berkeley CA</td>\n",
              "      <td>USA</td>\n",
              "      <td>{\"coordinates\": [[[[-155.60651897, 20.13795556...</td>\n",
              "      <td>45.68753333949257, -112.49433391594603</td>\n",
              "    </tr>\n",
              "    <tr>\n",
              "      <th>13</th>\n",
              "      <td>402</td>\n",
              "      <td>Nikolaas</td>\n",
              "      <td>Tinbergen</td>\n",
              "      <td>1907-04-15</td>\n",
              "      <td>1988-12-21</td>\n",
              "      <td>the Netherlands</td>\n",
              "      <td>NL</td>\n",
              "      <td>the Hague</td>\n",
              "      <td>United Kingdom</td>\n",
              "      <td>GB</td>\n",
              "      <td>...</td>\n",
              "      <td>male</td>\n",
              "      <td>1973</td>\n",
              "      <td>Medicine</td>\n",
              "      <td>NaN</td>\n",
              "      <td>\"for their discoveries concerning organization...</td>\n",
              "      <td>University of Oxford</td>\n",
              "      <td>Oxford</td>\n",
              "      <td>United Kingdom</td>\n",
              "      <td>NaN</td>\n",
              "      <td>NaN</td>\n",
              "    </tr>\n",
              "    <tr>\n",
              "      <th>14</th>\n",
              "      <td>407</td>\n",
              "      <td>Renato</td>\n",
              "      <td>Dulbecco</td>\n",
              "      <td>1914-02-22</td>\n",
              "      <td>2012-02-19</td>\n",
              "      <td>Italy</td>\n",
              "      <td>IT</td>\n",
              "      <td>Catanzaro</td>\n",
              "      <td>USA</td>\n",
              "      <td>US</td>\n",
              "      <td>...</td>\n",
              "      <td>male</td>\n",
              "      <td>1975</td>\n",
              "      <td>Medicine</td>\n",
              "      <td>NaN</td>\n",
              "      <td>\"for their discoveries concerning the interact...</td>\n",
              "      <td>Imperial Cancer Research Fund Laboratory</td>\n",
              "      <td>London</td>\n",
              "      <td>United Kingdom</td>\n",
              "      <td>NaN</td>\n",
              "      <td>NaN</td>\n",
              "    </tr>\n",
              "    <tr>\n",
              "      <th>15</th>\n",
              "      <td>409</td>\n",
              "      <td>Baruch S.</td>\n",
              "      <td>Blumberg</td>\n",
              "      <td>1925-07-28</td>\n",
              "      <td>2011-04-05</td>\n",
              "      <td>USA</td>\n",
              "      <td>US</td>\n",
              "      <td>New York NY</td>\n",
              "      <td>USA</td>\n",
              "      <td>US</td>\n",
              "      <td>...</td>\n",
              "      <td>male</td>\n",
              "      <td>1976</td>\n",
              "      <td>Medicine</td>\n",
              "      <td>NaN</td>\n",
              "      <td>\"for their discoveries concerning new mechanis...</td>\n",
              "      <td>The Institute for Cancer Research</td>\n",
              "      <td>Philadelphia PA</td>\n",
              "      <td>USA</td>\n",
              "      <td>{\"coordinates\": [[[[-155.60651897, 20.13795556...</td>\n",
              "      <td>45.68753333949257, -112.49433391594603</td>\n",
              "    </tr>\n",
              "    <tr>\n",
              "      <th>16</th>\n",
              "      <td>457</td>\n",
              "      <td>Stanley B.</td>\n",
              "      <td>Prusiner</td>\n",
              "      <td>1942-05-28</td>\n",
              "      <td>NaN</td>\n",
              "      <td>USA</td>\n",
              "      <td>US</td>\n",
              "      <td>Des Moines IA</td>\n",
              "      <td>NaN</td>\n",
              "      <td>NaN</td>\n",
              "      <td>...</td>\n",
              "      <td>male</td>\n",
              "      <td>1997</td>\n",
              "      <td>Medicine</td>\n",
              "      <td>NaN</td>\n",
              "      <td>\"for his discovery of Prions - a new biologica...</td>\n",
              "      <td>University of California School of Medicine</td>\n",
              "      <td>San Francisco CA</td>\n",
              "      <td>USA</td>\n",
              "      <td>{\"coordinates\": [[[[-155.60651897, 20.13795556...</td>\n",
              "      <td>45.68753333949257, -112.49433391594603</td>\n",
              "    </tr>\n",
              "    <tr>\n",
              "      <th>17</th>\n",
              "      <td>110</td>\n",
              "      <td>Pyotr</td>\n",
              "      <td>Kapitsa</td>\n",
              "      <td>1894-07-09</td>\n",
              "      <td>1984-04-08</td>\n",
              "      <td>Russian Empire (now Russia)</td>\n",
              "      <td>RU</td>\n",
              "      <td>Kronshtadt</td>\n",
              "      <td>USSR (now Russia)</td>\n",
              "      <td>RU</td>\n",
              "      <td>...</td>\n",
              "      <td>male</td>\n",
              "      <td>1978</td>\n",
              "      <td>Physics</td>\n",
              "      <td>NaN</td>\n",
              "      <td>\"for his basic inventions and discoveries in t...</td>\n",
              "      <td>Academy of Sciences</td>\n",
              "      <td>Moscow</td>\n",
              "      <td>USSR (now Russia)</td>\n",
              "      <td>{\"coordinates\": [[[[132.448985222, 42.84540436...</td>\n",
              "      <td>61.98434173753368, 96.6934557674586</td>\n",
              "    </tr>\n",
              "    <tr>\n",
              "      <th>18</th>\n",
              "      <td>128</td>\n",
              "      <td>Gerd</td>\n",
              "      <td>Binnig</td>\n",
              "      <td>1947-07-20</td>\n",
              "      <td>NaN</td>\n",
              "      <td>West Germany (now Germany)</td>\n",
              "      <td>DE</td>\n",
              "      <td>Frankfurt-on-the-Main</td>\n",
              "      <td>NaN</td>\n",
              "      <td>NaN</td>\n",
              "      <td>...</td>\n",
              "      <td>male</td>\n",
              "      <td>1986</td>\n",
              "      <td>Physics</td>\n",
              "      <td>NaN</td>\n",
              "      <td>\"for their design of the scanning tunneling mi...</td>\n",
              "      <td>IBM Zurich Research Laboratory</td>\n",
              "      <td>Rüschlikon</td>\n",
              "      <td>Switzerland</td>\n",
              "      <td>{\"coordinates\": [[[8.617437378, 47.757318624],...</td>\n",
              "      <td>46.79908592207713, 8.215912661532034</td>\n",
              "    </tr>\n",
              "    <tr>\n",
              "      <th>19</th>\n",
              "      <td>153</td>\n",
              "      <td>Claude</td>\n",
              "      <td>Cohen-Tannoudji</td>\n",
              "      <td>1933-04-01</td>\n",
              "      <td>NaN</td>\n",
              "      <td>French Algeria (now Algeria)</td>\n",
              "      <td>DZ</td>\n",
              "      <td>Constantine</td>\n",
              "      <td>NaN</td>\n",
              "      <td>NaN</td>\n",
              "      <td>...</td>\n",
              "      <td>male</td>\n",
              "      <td>1997</td>\n",
              "      <td>Physics</td>\n",
              "      <td>NaN</td>\n",
              "      <td>\"for development of methods to cool and trap a...</td>\n",
              "      <td>Collège de France</td>\n",
              "      <td>Paris</td>\n",
              "      <td>France</td>\n",
              "      <td>{\"coordinates\": [[[[55.501312696, -20.87322356...</td>\n",
              "      <td>42.182029178537626, -2.7544221494581898</td>\n",
              "    </tr>\n",
              "  </tbody>\n",
              "</table>\n",
              "<p>20 rows × 21 columns</p>\n",
              "</div>\n",
              "    <div class=\"colab-df-buttons\">\n",
              "\n",
              "  <div class=\"colab-df-container\">\n",
              "    <button class=\"colab-df-convert\" onclick=\"convertToInteractive('df-af8a0ea8-4a46-4ac8-b894-faaf3fadf145')\"\n",
              "            title=\"Convert this dataframe to an interactive table.\"\n",
              "            style=\"display:none;\">\n",
              "\n",
              "  <svg xmlns=\"http://www.w3.org/2000/svg\" height=\"24px\" viewBox=\"0 -960 960 960\">\n",
              "    <path d=\"M120-120v-720h720v720H120Zm60-500h600v-160H180v160Zm220 220h160v-160H400v160Zm0 220h160v-160H400v160ZM180-400h160v-160H180v160Zm440 0h160v-160H620v160ZM180-180h160v-160H180v160Zm440 0h160v-160H620v160Z\"/>\n",
              "  </svg>\n",
              "    </button>\n",
              "\n",
              "  <style>\n",
              "    .colab-df-container {\n",
              "      display:flex;\n",
              "      gap: 12px;\n",
              "    }\n",
              "\n",
              "    .colab-df-convert {\n",
              "      background-color: #E8F0FE;\n",
              "      border: none;\n",
              "      border-radius: 50%;\n",
              "      cursor: pointer;\n",
              "      display: none;\n",
              "      fill: #1967D2;\n",
              "      height: 32px;\n",
              "      padding: 0 0 0 0;\n",
              "      width: 32px;\n",
              "    }\n",
              "\n",
              "    .colab-df-convert:hover {\n",
              "      background-color: #E2EBFA;\n",
              "      box-shadow: 0px 1px 2px rgba(60, 64, 67, 0.3), 0px 1px 3px 1px rgba(60, 64, 67, 0.15);\n",
              "      fill: #174EA6;\n",
              "    }\n",
              "\n",
              "    .colab-df-buttons div {\n",
              "      margin-bottom: 4px;\n",
              "    }\n",
              "\n",
              "    [theme=dark] .colab-df-convert {\n",
              "      background-color: #3B4455;\n",
              "      fill: #D2E3FC;\n",
              "    }\n",
              "\n",
              "    [theme=dark] .colab-df-convert:hover {\n",
              "      background-color: #434B5C;\n",
              "      box-shadow: 0px 1px 3px 1px rgba(0, 0, 0, 0.15);\n",
              "      filter: drop-shadow(0px 1px 2px rgba(0, 0, 0, 0.3));\n",
              "      fill: #FFFFFF;\n",
              "    }\n",
              "  </style>\n",
              "\n",
              "    <script>\n",
              "      const buttonEl =\n",
              "        document.querySelector('#df-af8a0ea8-4a46-4ac8-b894-faaf3fadf145 button.colab-df-convert');\n",
              "      buttonEl.style.display =\n",
              "        google.colab.kernel.accessAllowed ? 'block' : 'none';\n",
              "\n",
              "      async function convertToInteractive(key) {\n",
              "        const element = document.querySelector('#df-af8a0ea8-4a46-4ac8-b894-faaf3fadf145');\n",
              "        const dataTable =\n",
              "          await google.colab.kernel.invokeFunction('convertToInteractive',\n",
              "                                                    [key], {});\n",
              "        if (!dataTable) return;\n",
              "\n",
              "        const docLinkHtml = 'Like what you see? Visit the ' +\n",
              "          '<a target=\"_blank\" href=https://colab.research.google.com/notebooks/data_table.ipynb>data table notebook</a>'\n",
              "          + ' to learn more about interactive tables.';\n",
              "        element.innerHTML = '';\n",
              "        dataTable['output_type'] = 'display_data';\n",
              "        await google.colab.output.renderOutput(dataTable, element);\n",
              "        const docLink = document.createElement('div');\n",
              "        docLink.innerHTML = docLinkHtml;\n",
              "        element.appendChild(docLink);\n",
              "      }\n",
              "    </script>\n",
              "  </div>\n",
              "\n",
              "\n",
              "<div id=\"df-5e9d358a-65f2-4633-8fc1-c701283b30e6\">\n",
              "  <button class=\"colab-df-quickchart\" onclick=\"quickchart('df-5e9d358a-65f2-4633-8fc1-c701283b30e6')\"\n",
              "            title=\"Suggest charts.\"\n",
              "            style=\"display:none;\">\n",
              "\n",
              "<svg xmlns=\"http://www.w3.org/2000/svg\" height=\"24px\"viewBox=\"0 0 24 24\"\n",
              "     width=\"24px\">\n",
              "    <g>\n",
              "        <path d=\"M19 3H5c-1.1 0-2 .9-2 2v14c0 1.1.9 2 2 2h14c1.1 0 2-.9 2-2V5c0-1.1-.9-2-2-2zM9 17H7v-7h2v7zm4 0h-2V7h2v10zm4 0h-2v-4h2v4z\"/>\n",
              "    </g>\n",
              "</svg>\n",
              "  </button>\n",
              "\n",
              "<style>\n",
              "  .colab-df-quickchart {\n",
              "      --bg-color: #E8F0FE;\n",
              "      --fill-color: #1967D2;\n",
              "      --hover-bg-color: #E2EBFA;\n",
              "      --hover-fill-color: #174EA6;\n",
              "      --disabled-fill-color: #AAA;\n",
              "      --disabled-bg-color: #DDD;\n",
              "  }\n",
              "\n",
              "  [theme=dark] .colab-df-quickchart {\n",
              "      --bg-color: #3B4455;\n",
              "      --fill-color: #D2E3FC;\n",
              "      --hover-bg-color: #434B5C;\n",
              "      --hover-fill-color: #FFFFFF;\n",
              "      --disabled-bg-color: #3B4455;\n",
              "      --disabled-fill-color: #666;\n",
              "  }\n",
              "\n",
              "  .colab-df-quickchart {\n",
              "    background-color: var(--bg-color);\n",
              "    border: none;\n",
              "    border-radius: 50%;\n",
              "    cursor: pointer;\n",
              "    display: none;\n",
              "    fill: var(--fill-color);\n",
              "    height: 32px;\n",
              "    padding: 0;\n",
              "    width: 32px;\n",
              "  }\n",
              "\n",
              "  .colab-df-quickchart:hover {\n",
              "    background-color: var(--hover-bg-color);\n",
              "    box-shadow: 0 1px 2px rgba(60, 64, 67, 0.3), 0 1px 3px 1px rgba(60, 64, 67, 0.15);\n",
              "    fill: var(--button-hover-fill-color);\n",
              "  }\n",
              "\n",
              "  .colab-df-quickchart-complete:disabled,\n",
              "  .colab-df-quickchart-complete:disabled:hover {\n",
              "    background-color: var(--disabled-bg-color);\n",
              "    fill: var(--disabled-fill-color);\n",
              "    box-shadow: none;\n",
              "  }\n",
              "\n",
              "  .colab-df-spinner {\n",
              "    border: 2px solid var(--fill-color);\n",
              "    border-color: transparent;\n",
              "    border-bottom-color: var(--fill-color);\n",
              "    animation:\n",
              "      spin 1s steps(1) infinite;\n",
              "  }\n",
              "\n",
              "  @keyframes spin {\n",
              "    0% {\n",
              "      border-color: transparent;\n",
              "      border-bottom-color: var(--fill-color);\n",
              "      border-left-color: var(--fill-color);\n",
              "    }\n",
              "    20% {\n",
              "      border-color: transparent;\n",
              "      border-left-color: var(--fill-color);\n",
              "      border-top-color: var(--fill-color);\n",
              "    }\n",
              "    30% {\n",
              "      border-color: transparent;\n",
              "      border-left-color: var(--fill-color);\n",
              "      border-top-color: var(--fill-color);\n",
              "      border-right-color: var(--fill-color);\n",
              "    }\n",
              "    40% {\n",
              "      border-color: transparent;\n",
              "      border-right-color: var(--fill-color);\n",
              "      border-top-color: var(--fill-color);\n",
              "    }\n",
              "    60% {\n",
              "      border-color: transparent;\n",
              "      border-right-color: var(--fill-color);\n",
              "    }\n",
              "    80% {\n",
              "      border-color: transparent;\n",
              "      border-right-color: var(--fill-color);\n",
              "      border-bottom-color: var(--fill-color);\n",
              "    }\n",
              "    90% {\n",
              "      border-color: transparent;\n",
              "      border-bottom-color: var(--fill-color);\n",
              "    }\n",
              "  }\n",
              "</style>\n",
              "\n",
              "  <script>\n",
              "    async function quickchart(key) {\n",
              "      const quickchartButtonEl =\n",
              "        document.querySelector('#' + key + ' button');\n",
              "      quickchartButtonEl.disabled = true;  // To prevent multiple clicks.\n",
              "      quickchartButtonEl.classList.add('colab-df-spinner');\n",
              "      try {\n",
              "        const charts = await google.colab.kernel.invokeFunction(\n",
              "            'suggestCharts', [key], {});\n",
              "      } catch (error) {\n",
              "        console.error('Error during call to suggestCharts:', error);\n",
              "      }\n",
              "      quickchartButtonEl.classList.remove('colab-df-spinner');\n",
              "      quickchartButtonEl.classList.add('colab-df-quickchart-complete');\n",
              "    }\n",
              "    (() => {\n",
              "      let quickchartButtonEl =\n",
              "        document.querySelector('#df-5e9d358a-65f2-4633-8fc1-c701283b30e6 button');\n",
              "      quickchartButtonEl.style.display =\n",
              "        google.colab.kernel.accessAllowed ? 'block' : 'none';\n",
              "    })();\n",
              "  </script>\n",
              "</div>\n",
              "    </div>\n",
              "  </div>\n"
            ]
          },
          "metadata": {},
          "execution_count": 31
        }
      ]
    },
    {
      "cell_type": "code",
      "source": [
        "df.columns\n"
      ],
      "metadata": {
        "colab": {
          "base_uri": "https://localhost:8080/"
        },
        "id": "_DiAHp3jNSVy",
        "outputId": "0fbdfa83-9736-4a6c-86ab-3993d3c552f3"
      },
      "execution_count": 9,
      "outputs": [
        {
          "output_type": "execute_result",
          "data": {
            "text/plain": [
              "Index(['Id', 'Firstname', 'Surname', 'Born', 'Died', 'Born country',\n",
              "       'Born country code', 'Born city', 'Died country', 'Died country code',\n",
              "       'Died city', 'Gender', 'Year', 'Category', 'Overall motivation',\n",
              "       'Motivation', 'Organization name', 'Organization city',\n",
              "       'Organization country', 'Geo Shape', 'Geo Point 2D'],\n",
              "      dtype='object')"
            ]
          },
          "metadata": {},
          "execution_count": 9
        }
      ]
    },
    {
      "cell_type": "code",
      "source": [],
      "metadata": {
        "id": "kbi9c4ss5WIE"
      },
      "execution_count": null,
      "outputs": []
    },
    {
      "cell_type": "code",
      "source": [
        "len(df.columns)"
      ],
      "metadata": {
        "colab": {
          "base_uri": "https://localhost:8080/"
        },
        "id": "a_TH-mfNNmx3",
        "outputId": "c45cdb6e-21bc-4140-8ed1-9c4b26f71902"
      },
      "execution_count": null,
      "outputs": [
        {
          "output_type": "execute_result",
          "data": {
            "text/plain": [
              "21"
            ]
          },
          "metadata": {},
          "execution_count": 9
        }
      ]
    },
    {
      "cell_type": "code",
      "source": [
        "df.info()"
      ],
      "metadata": {
        "colab": {
          "base_uri": "https://localhost:8080/"
        },
        "id": "df_4i7t1N2xr",
        "outputId": "f2334416-a5e5-4179-bf88-8dca66ae701d"
      },
      "execution_count": 10,
      "outputs": [
        {
          "output_type": "stream",
          "name": "stdout",
          "text": [
            "<class 'pandas.core.frame.DataFrame'>\n",
            "RangeIndex: 989 entries, 0 to 988\n",
            "Data columns (total 21 columns):\n",
            " #   Column                Non-Null Count  Dtype \n",
            "---  ------                --------------  ----- \n",
            " 0   Id                    989 non-null    int64 \n",
            " 1   Firstname             988 non-null    object\n",
            " 2   Surname               956 non-null    object\n",
            " 3   Born                  949 non-null    object\n",
            " 4   Died                  662 non-null    object\n",
            " 5   Born country          958 non-null    object\n",
            " 6   Born country code     958 non-null    object\n",
            " 7   Born city             956 non-null    object\n",
            " 8   Died country          650 non-null    object\n",
            " 9   Died country code     650 non-null    object\n",
            " 10  Died city             644 non-null    object\n",
            " 11  Gender                989 non-null    object\n",
            " 12  Year                  989 non-null    int64 \n",
            " 13  Category              989 non-null    object\n",
            " 14  Overall motivation    23 non-null     object\n",
            " 15  Motivation            989 non-null    object\n",
            " 16  Organization name     727 non-null    object\n",
            " 17  Organization city     722 non-null    object\n",
            " 18  Organization country  724 non-null    object\n",
            " 19  Geo Shape             631 non-null    object\n",
            " 20  Geo Point 2D          631 non-null    object\n",
            "dtypes: int64(2), object(19)\n",
            "memory usage: 162.4+ KB\n"
          ]
        }
      ]
    },
    {
      "cell_type": "code",
      "source": [
        "df.describe()"
      ],
      "metadata": {
        "colab": {
          "base_uri": "https://localhost:8080/",
          "height": 300
        },
        "id": "5pPcQmXUOZkF",
        "outputId": "aa2733ab-c463-4475-ea94-b30423b0b3c1"
      },
      "execution_count": 11,
      "outputs": [
        {
          "output_type": "execute_result",
          "data": {
            "text/plain": [
              "                Id         Year\n",
              "count   989.000000   989.000000\n",
              "mean    503.316481  1973.172902\n",
              "std     294.666723    34.318841\n",
              "min       1.000000  1901.000000\n",
              "25%     248.000000  1949.000000\n",
              "50%     495.000000  1979.000000\n",
              "75%     756.000000  2002.000000\n",
              "max    1023.000000  2022.000000"
            ],
            "text/html": [
              "\n",
              "  <div id=\"df-98b79c68-a6f3-41a4-8b8c-b6d1d0ab91af\" class=\"colab-df-container\">\n",
              "    <div>\n",
              "<style scoped>\n",
              "    .dataframe tbody tr th:only-of-type {\n",
              "        vertical-align: middle;\n",
              "    }\n",
              "\n",
              "    .dataframe tbody tr th {\n",
              "        vertical-align: top;\n",
              "    }\n",
              "\n",
              "    .dataframe thead th {\n",
              "        text-align: right;\n",
              "    }\n",
              "</style>\n",
              "<table border=\"1\" class=\"dataframe\">\n",
              "  <thead>\n",
              "    <tr style=\"text-align: right;\">\n",
              "      <th></th>\n",
              "      <th>Id</th>\n",
              "      <th>Year</th>\n",
              "    </tr>\n",
              "  </thead>\n",
              "  <tbody>\n",
              "    <tr>\n",
              "      <th>count</th>\n",
              "      <td>989.000000</td>\n",
              "      <td>989.000000</td>\n",
              "    </tr>\n",
              "    <tr>\n",
              "      <th>mean</th>\n",
              "      <td>503.316481</td>\n",
              "      <td>1973.172902</td>\n",
              "    </tr>\n",
              "    <tr>\n",
              "      <th>std</th>\n",
              "      <td>294.666723</td>\n",
              "      <td>34.318841</td>\n",
              "    </tr>\n",
              "    <tr>\n",
              "      <th>min</th>\n",
              "      <td>1.000000</td>\n",
              "      <td>1901.000000</td>\n",
              "    </tr>\n",
              "    <tr>\n",
              "      <th>25%</th>\n",
              "      <td>248.000000</td>\n",
              "      <td>1949.000000</td>\n",
              "    </tr>\n",
              "    <tr>\n",
              "      <th>50%</th>\n",
              "      <td>495.000000</td>\n",
              "      <td>1979.000000</td>\n",
              "    </tr>\n",
              "    <tr>\n",
              "      <th>75%</th>\n",
              "      <td>756.000000</td>\n",
              "      <td>2002.000000</td>\n",
              "    </tr>\n",
              "    <tr>\n",
              "      <th>max</th>\n",
              "      <td>1023.000000</td>\n",
              "      <td>2022.000000</td>\n",
              "    </tr>\n",
              "  </tbody>\n",
              "</table>\n",
              "</div>\n",
              "    <div class=\"colab-df-buttons\">\n",
              "\n",
              "  <div class=\"colab-df-container\">\n",
              "    <button class=\"colab-df-convert\" onclick=\"convertToInteractive('df-98b79c68-a6f3-41a4-8b8c-b6d1d0ab91af')\"\n",
              "            title=\"Convert this dataframe to an interactive table.\"\n",
              "            style=\"display:none;\">\n",
              "\n",
              "  <svg xmlns=\"http://www.w3.org/2000/svg\" height=\"24px\" viewBox=\"0 -960 960 960\">\n",
              "    <path d=\"M120-120v-720h720v720H120Zm60-500h600v-160H180v160Zm220 220h160v-160H400v160Zm0 220h160v-160H400v160ZM180-400h160v-160H180v160Zm440 0h160v-160H620v160ZM180-180h160v-160H180v160Zm440 0h160v-160H620v160Z\"/>\n",
              "  </svg>\n",
              "    </button>\n",
              "\n",
              "  <style>\n",
              "    .colab-df-container {\n",
              "      display:flex;\n",
              "      gap: 12px;\n",
              "    }\n",
              "\n",
              "    .colab-df-convert {\n",
              "      background-color: #E8F0FE;\n",
              "      border: none;\n",
              "      border-radius: 50%;\n",
              "      cursor: pointer;\n",
              "      display: none;\n",
              "      fill: #1967D2;\n",
              "      height: 32px;\n",
              "      padding: 0 0 0 0;\n",
              "      width: 32px;\n",
              "    }\n",
              "\n",
              "    .colab-df-convert:hover {\n",
              "      background-color: #E2EBFA;\n",
              "      box-shadow: 0px 1px 2px rgba(60, 64, 67, 0.3), 0px 1px 3px 1px rgba(60, 64, 67, 0.15);\n",
              "      fill: #174EA6;\n",
              "    }\n",
              "\n",
              "    .colab-df-buttons div {\n",
              "      margin-bottom: 4px;\n",
              "    }\n",
              "\n",
              "    [theme=dark] .colab-df-convert {\n",
              "      background-color: #3B4455;\n",
              "      fill: #D2E3FC;\n",
              "    }\n",
              "\n",
              "    [theme=dark] .colab-df-convert:hover {\n",
              "      background-color: #434B5C;\n",
              "      box-shadow: 0px 1px 3px 1px rgba(0, 0, 0, 0.15);\n",
              "      filter: drop-shadow(0px 1px 2px rgba(0, 0, 0, 0.3));\n",
              "      fill: #FFFFFF;\n",
              "    }\n",
              "  </style>\n",
              "\n",
              "    <script>\n",
              "      const buttonEl =\n",
              "        document.querySelector('#df-98b79c68-a6f3-41a4-8b8c-b6d1d0ab91af button.colab-df-convert');\n",
              "      buttonEl.style.display =\n",
              "        google.colab.kernel.accessAllowed ? 'block' : 'none';\n",
              "\n",
              "      async function convertToInteractive(key) {\n",
              "        const element = document.querySelector('#df-98b79c68-a6f3-41a4-8b8c-b6d1d0ab91af');\n",
              "        const dataTable =\n",
              "          await google.colab.kernel.invokeFunction('convertToInteractive',\n",
              "                                                    [key], {});\n",
              "        if (!dataTable) return;\n",
              "\n",
              "        const docLinkHtml = 'Like what you see? Visit the ' +\n",
              "          '<a target=\"_blank\" href=https://colab.research.google.com/notebooks/data_table.ipynb>data table notebook</a>'\n",
              "          + ' to learn more about interactive tables.';\n",
              "        element.innerHTML = '';\n",
              "        dataTable['output_type'] = 'display_data';\n",
              "        await google.colab.output.renderOutput(dataTable, element);\n",
              "        const docLink = document.createElement('div');\n",
              "        docLink.innerHTML = docLinkHtml;\n",
              "        element.appendChild(docLink);\n",
              "      }\n",
              "    </script>\n",
              "  </div>\n",
              "\n",
              "\n",
              "<div id=\"df-93ae9036-b1c1-4d11-a365-03c75a6ab054\">\n",
              "  <button class=\"colab-df-quickchart\" onclick=\"quickchart('df-93ae9036-b1c1-4d11-a365-03c75a6ab054')\"\n",
              "            title=\"Suggest charts.\"\n",
              "            style=\"display:none;\">\n",
              "\n",
              "<svg xmlns=\"http://www.w3.org/2000/svg\" height=\"24px\"viewBox=\"0 0 24 24\"\n",
              "     width=\"24px\">\n",
              "    <g>\n",
              "        <path d=\"M19 3H5c-1.1 0-2 .9-2 2v14c0 1.1.9 2 2 2h14c1.1 0 2-.9 2-2V5c0-1.1-.9-2-2-2zM9 17H7v-7h2v7zm4 0h-2V7h2v10zm4 0h-2v-4h2v4z\"/>\n",
              "    </g>\n",
              "</svg>\n",
              "  </button>\n",
              "\n",
              "<style>\n",
              "  .colab-df-quickchart {\n",
              "      --bg-color: #E8F0FE;\n",
              "      --fill-color: #1967D2;\n",
              "      --hover-bg-color: #E2EBFA;\n",
              "      --hover-fill-color: #174EA6;\n",
              "      --disabled-fill-color: #AAA;\n",
              "      --disabled-bg-color: #DDD;\n",
              "  }\n",
              "\n",
              "  [theme=dark] .colab-df-quickchart {\n",
              "      --bg-color: #3B4455;\n",
              "      --fill-color: #D2E3FC;\n",
              "      --hover-bg-color: #434B5C;\n",
              "      --hover-fill-color: #FFFFFF;\n",
              "      --disabled-bg-color: #3B4455;\n",
              "      --disabled-fill-color: #666;\n",
              "  }\n",
              "\n",
              "  .colab-df-quickchart {\n",
              "    background-color: var(--bg-color);\n",
              "    border: none;\n",
              "    border-radius: 50%;\n",
              "    cursor: pointer;\n",
              "    display: none;\n",
              "    fill: var(--fill-color);\n",
              "    height: 32px;\n",
              "    padding: 0;\n",
              "    width: 32px;\n",
              "  }\n",
              "\n",
              "  .colab-df-quickchart:hover {\n",
              "    background-color: var(--hover-bg-color);\n",
              "    box-shadow: 0 1px 2px rgba(60, 64, 67, 0.3), 0 1px 3px 1px rgba(60, 64, 67, 0.15);\n",
              "    fill: var(--button-hover-fill-color);\n",
              "  }\n",
              "\n",
              "  .colab-df-quickchart-complete:disabled,\n",
              "  .colab-df-quickchart-complete:disabled:hover {\n",
              "    background-color: var(--disabled-bg-color);\n",
              "    fill: var(--disabled-fill-color);\n",
              "    box-shadow: none;\n",
              "  }\n",
              "\n",
              "  .colab-df-spinner {\n",
              "    border: 2px solid var(--fill-color);\n",
              "    border-color: transparent;\n",
              "    border-bottom-color: var(--fill-color);\n",
              "    animation:\n",
              "      spin 1s steps(1) infinite;\n",
              "  }\n",
              "\n",
              "  @keyframes spin {\n",
              "    0% {\n",
              "      border-color: transparent;\n",
              "      border-bottom-color: var(--fill-color);\n",
              "      border-left-color: var(--fill-color);\n",
              "    }\n",
              "    20% {\n",
              "      border-color: transparent;\n",
              "      border-left-color: var(--fill-color);\n",
              "      border-top-color: var(--fill-color);\n",
              "    }\n",
              "    30% {\n",
              "      border-color: transparent;\n",
              "      border-left-color: var(--fill-color);\n",
              "      border-top-color: var(--fill-color);\n",
              "      border-right-color: var(--fill-color);\n",
              "    }\n",
              "    40% {\n",
              "      border-color: transparent;\n",
              "      border-right-color: var(--fill-color);\n",
              "      border-top-color: var(--fill-color);\n",
              "    }\n",
              "    60% {\n",
              "      border-color: transparent;\n",
              "      border-right-color: var(--fill-color);\n",
              "    }\n",
              "    80% {\n",
              "      border-color: transparent;\n",
              "      border-right-color: var(--fill-color);\n",
              "      border-bottom-color: var(--fill-color);\n",
              "    }\n",
              "    90% {\n",
              "      border-color: transparent;\n",
              "      border-bottom-color: var(--fill-color);\n",
              "    }\n",
              "  }\n",
              "</style>\n",
              "\n",
              "  <script>\n",
              "    async function quickchart(key) {\n",
              "      const quickchartButtonEl =\n",
              "        document.querySelector('#' + key + ' button');\n",
              "      quickchartButtonEl.disabled = true;  // To prevent multiple clicks.\n",
              "      quickchartButtonEl.classList.add('colab-df-spinner');\n",
              "      try {\n",
              "        const charts = await google.colab.kernel.invokeFunction(\n",
              "            'suggestCharts', [key], {});\n",
              "      } catch (error) {\n",
              "        console.error('Error during call to suggestCharts:', error);\n",
              "      }\n",
              "      quickchartButtonEl.classList.remove('colab-df-spinner');\n",
              "      quickchartButtonEl.classList.add('colab-df-quickchart-complete');\n",
              "    }\n",
              "    (() => {\n",
              "      let quickchartButtonEl =\n",
              "        document.querySelector('#df-93ae9036-b1c1-4d11-a365-03c75a6ab054 button');\n",
              "      quickchartButtonEl.style.display =\n",
              "        google.colab.kernel.accessAllowed ? 'block' : 'none';\n",
              "    })();\n",
              "  </script>\n",
              "</div>\n",
              "    </div>\n",
              "  </div>\n"
            ]
          },
          "metadata": {},
          "execution_count": 11
        }
      ]
    },
    {
      "cell_type": "code",
      "source": [
        "numerics = ['int16', 'int32', 'int64', 'float16', 'float32', 'float64']\n",
        "numeric_df = df.select_dtypes(include=numerics)\n",
        "len(numeric_df.columns)"
      ],
      "metadata": {
        "colab": {
          "base_uri": "https://localhost:8080/"
        },
        "id": "MDQBXRzmOZge",
        "outputId": "4f780cb4-0cb3-4d17-ef42-3d3b2c6c043c"
      },
      "execution_count": 12,
      "outputs": [
        {
          "output_type": "execute_result",
          "data": {
            "text/plain": [
              "2"
            ]
          },
          "metadata": {},
          "execution_count": 12
        }
      ]
    },
    {
      "cell_type": "code",
      "source": [
        "df.isna()"
      ],
      "metadata": {
        "colab": {
          "base_uri": "https://localhost:8080/",
          "height": 478
        },
        "id": "CR7QhwBXSdO-",
        "outputId": "67501d18-1e51-4405-b2c6-f2ed597e9d9e"
      },
      "execution_count": 13,
      "outputs": [
        {
          "output_type": "execute_result",
          "data": {
            "text/plain": [
              "        Id  Firstname  Surname   Born   Died  Born country  Born country code  \\\n",
              "0    False      False    False  False  False         False              False   \n",
              "1    False      False    False  False  False         False              False   \n",
              "2    False      False    False  False  False         False              False   \n",
              "3    False      False    False  False   True         False              False   \n",
              "4    False      False    False  False  False         False              False   \n",
              "..     ...        ...      ...    ...    ...           ...                ...   \n",
              "984  False      False    False  False  False         False              False   \n",
              "985  False      False    False  False  False         False              False   \n",
              "986  False      False    False  False  False         False              False   \n",
              "987  False      False    False  False  False         False              False   \n",
              "988  False      False    False  False   True         False              False   \n",
              "\n",
              "     Born city  Died country  Died country code  ...  Gender   Year  Category  \\\n",
              "0        False         False              False  ...   False  False     False   \n",
              "1        False         False              False  ...   False  False     False   \n",
              "2        False         False              False  ...   False  False     False   \n",
              "3        False          True               True  ...   False  False     False   \n",
              "4        False         False              False  ...   False  False     False   \n",
              "..         ...           ...                ...  ...     ...    ...       ...   \n",
              "984      False         False              False  ...   False  False     False   \n",
              "985      False          True               True  ...   False  False     False   \n",
              "986      False         False              False  ...   False  False     False   \n",
              "987      False         False              False  ...   False  False     False   \n",
              "988      False          True               True  ...   False  False     False   \n",
              "\n",
              "     Overall motivation  Motivation  Organization name  Organization city  \\\n",
              "0                  True       False              False              False   \n",
              "1                  True       False              False              False   \n",
              "2                  True       False              False              False   \n",
              "3                  True       False               True               True   \n",
              "4                  True       False               True               True   \n",
              "..                  ...         ...                ...                ...   \n",
              "984               False       False              False              False   \n",
              "985                True       False              False              False   \n",
              "986                True       False              False              False   \n",
              "987                True       False              False              False   \n",
              "988                True       False              False              False   \n",
              "\n",
              "     Organization country  Geo Shape  Geo Point 2D  \n",
              "0                   False      False         False  \n",
              "1                   False      False         False  \n",
              "2                   False      False         False  \n",
              "3                    True       True          True  \n",
              "4                    True       True          True  \n",
              "..                    ...        ...           ...  \n",
              "984                 False      False         False  \n",
              "985                 False      False         False  \n",
              "986                 False      False         False  \n",
              "987                 False      False         False  \n",
              "988                 False      False         False  \n",
              "\n",
              "[989 rows x 21 columns]"
            ],
            "text/html": [
              "\n",
              "  <div id=\"df-1f283fab-8bd2-4938-a3f6-fdfdabda3ae2\" class=\"colab-df-container\">\n",
              "    <div>\n",
              "<style scoped>\n",
              "    .dataframe tbody tr th:only-of-type {\n",
              "        vertical-align: middle;\n",
              "    }\n",
              "\n",
              "    .dataframe tbody tr th {\n",
              "        vertical-align: top;\n",
              "    }\n",
              "\n",
              "    .dataframe thead th {\n",
              "        text-align: right;\n",
              "    }\n",
              "</style>\n",
              "<table border=\"1\" class=\"dataframe\">\n",
              "  <thead>\n",
              "    <tr style=\"text-align: right;\">\n",
              "      <th></th>\n",
              "      <th>Id</th>\n",
              "      <th>Firstname</th>\n",
              "      <th>Surname</th>\n",
              "      <th>Born</th>\n",
              "      <th>Died</th>\n",
              "      <th>Born country</th>\n",
              "      <th>Born country code</th>\n",
              "      <th>Born city</th>\n",
              "      <th>Died country</th>\n",
              "      <th>Died country code</th>\n",
              "      <th>...</th>\n",
              "      <th>Gender</th>\n",
              "      <th>Year</th>\n",
              "      <th>Category</th>\n",
              "      <th>Overall motivation</th>\n",
              "      <th>Motivation</th>\n",
              "      <th>Organization name</th>\n",
              "      <th>Organization city</th>\n",
              "      <th>Organization country</th>\n",
              "      <th>Geo Shape</th>\n",
              "      <th>Geo Point 2D</th>\n",
              "    </tr>\n",
              "  </thead>\n",
              "  <tbody>\n",
              "    <tr>\n",
              "      <th>0</th>\n",
              "      <td>False</td>\n",
              "      <td>False</td>\n",
              "      <td>False</td>\n",
              "      <td>False</td>\n",
              "      <td>False</td>\n",
              "      <td>False</td>\n",
              "      <td>False</td>\n",
              "      <td>False</td>\n",
              "      <td>False</td>\n",
              "      <td>False</td>\n",
              "      <td>...</td>\n",
              "      <td>False</td>\n",
              "      <td>False</td>\n",
              "      <td>False</td>\n",
              "      <td>True</td>\n",
              "      <td>False</td>\n",
              "      <td>False</td>\n",
              "      <td>False</td>\n",
              "      <td>False</td>\n",
              "      <td>False</td>\n",
              "      <td>False</td>\n",
              "    </tr>\n",
              "    <tr>\n",
              "      <th>1</th>\n",
              "      <td>False</td>\n",
              "      <td>False</td>\n",
              "      <td>False</td>\n",
              "      <td>False</td>\n",
              "      <td>False</td>\n",
              "      <td>False</td>\n",
              "      <td>False</td>\n",
              "      <td>False</td>\n",
              "      <td>False</td>\n",
              "      <td>False</td>\n",
              "      <td>...</td>\n",
              "      <td>False</td>\n",
              "      <td>False</td>\n",
              "      <td>False</td>\n",
              "      <td>True</td>\n",
              "      <td>False</td>\n",
              "      <td>False</td>\n",
              "      <td>False</td>\n",
              "      <td>False</td>\n",
              "      <td>False</td>\n",
              "      <td>False</td>\n",
              "    </tr>\n",
              "    <tr>\n",
              "      <th>2</th>\n",
              "      <td>False</td>\n",
              "      <td>False</td>\n",
              "      <td>False</td>\n",
              "      <td>False</td>\n",
              "      <td>False</td>\n",
              "      <td>False</td>\n",
              "      <td>False</td>\n",
              "      <td>False</td>\n",
              "      <td>False</td>\n",
              "      <td>False</td>\n",
              "      <td>...</td>\n",
              "      <td>False</td>\n",
              "      <td>False</td>\n",
              "      <td>False</td>\n",
              "      <td>True</td>\n",
              "      <td>False</td>\n",
              "      <td>False</td>\n",
              "      <td>False</td>\n",
              "      <td>False</td>\n",
              "      <td>False</td>\n",
              "      <td>False</td>\n",
              "    </tr>\n",
              "    <tr>\n",
              "      <th>3</th>\n",
              "      <td>False</td>\n",
              "      <td>False</td>\n",
              "      <td>False</td>\n",
              "      <td>False</td>\n",
              "      <td>True</td>\n",
              "      <td>False</td>\n",
              "      <td>False</td>\n",
              "      <td>False</td>\n",
              "      <td>True</td>\n",
              "      <td>True</td>\n",
              "      <td>...</td>\n",
              "      <td>False</td>\n",
              "      <td>False</td>\n",
              "      <td>False</td>\n",
              "      <td>True</td>\n",
              "      <td>False</td>\n",
              "      <td>True</td>\n",
              "      <td>True</td>\n",
              "      <td>True</td>\n",
              "      <td>True</td>\n",
              "      <td>True</td>\n",
              "    </tr>\n",
              "    <tr>\n",
              "      <th>4</th>\n",
              "      <td>False</td>\n",
              "      <td>False</td>\n",
              "      <td>False</td>\n",
              "      <td>False</td>\n",
              "      <td>False</td>\n",
              "      <td>False</td>\n",
              "      <td>False</td>\n",
              "      <td>False</td>\n",
              "      <td>False</td>\n",
              "      <td>False</td>\n",
              "      <td>...</td>\n",
              "      <td>False</td>\n",
              "      <td>False</td>\n",
              "      <td>False</td>\n",
              "      <td>True</td>\n",
              "      <td>False</td>\n",
              "      <td>True</td>\n",
              "      <td>True</td>\n",
              "      <td>True</td>\n",
              "      <td>True</td>\n",
              "      <td>True</td>\n",
              "    </tr>\n",
              "    <tr>\n",
              "      <th>...</th>\n",
              "      <td>...</td>\n",
              "      <td>...</td>\n",
              "      <td>...</td>\n",
              "      <td>...</td>\n",
              "      <td>...</td>\n",
              "      <td>...</td>\n",
              "      <td>...</td>\n",
              "      <td>...</td>\n",
              "      <td>...</td>\n",
              "      <td>...</td>\n",
              "      <td>...</td>\n",
              "      <td>...</td>\n",
              "      <td>...</td>\n",
              "      <td>...</td>\n",
              "      <td>...</td>\n",
              "      <td>...</td>\n",
              "      <td>...</td>\n",
              "      <td>...</td>\n",
              "      <td>...</td>\n",
              "      <td>...</td>\n",
              "      <td>...</td>\n",
              "    </tr>\n",
              "    <tr>\n",
              "      <th>984</th>\n",
              "      <td>False</td>\n",
              "      <td>False</td>\n",
              "      <td>False</td>\n",
              "      <td>False</td>\n",
              "      <td>False</td>\n",
              "      <td>False</td>\n",
              "      <td>False</td>\n",
              "      <td>False</td>\n",
              "      <td>False</td>\n",
              "      <td>False</td>\n",
              "      <td>...</td>\n",
              "      <td>False</td>\n",
              "      <td>False</td>\n",
              "      <td>False</td>\n",
              "      <td>False</td>\n",
              "      <td>False</td>\n",
              "      <td>False</td>\n",
              "      <td>False</td>\n",
              "      <td>False</td>\n",
              "      <td>False</td>\n",
              "      <td>False</td>\n",
              "    </tr>\n",
              "    <tr>\n",
              "      <th>985</th>\n",
              "      <td>False</td>\n",
              "      <td>False</td>\n",
              "      <td>False</td>\n",
              "      <td>False</td>\n",
              "      <td>False</td>\n",
              "      <td>False</td>\n",
              "      <td>False</td>\n",
              "      <td>False</td>\n",
              "      <td>True</td>\n",
              "      <td>True</td>\n",
              "      <td>...</td>\n",
              "      <td>False</td>\n",
              "      <td>False</td>\n",
              "      <td>False</td>\n",
              "      <td>True</td>\n",
              "      <td>False</td>\n",
              "      <td>False</td>\n",
              "      <td>False</td>\n",
              "      <td>False</td>\n",
              "      <td>False</td>\n",
              "      <td>False</td>\n",
              "    </tr>\n",
              "    <tr>\n",
              "      <th>986</th>\n",
              "      <td>False</td>\n",
              "      <td>False</td>\n",
              "      <td>False</td>\n",
              "      <td>False</td>\n",
              "      <td>False</td>\n",
              "      <td>False</td>\n",
              "      <td>False</td>\n",
              "      <td>False</td>\n",
              "      <td>False</td>\n",
              "      <td>False</td>\n",
              "      <td>...</td>\n",
              "      <td>False</td>\n",
              "      <td>False</td>\n",
              "      <td>False</td>\n",
              "      <td>True</td>\n",
              "      <td>False</td>\n",
              "      <td>False</td>\n",
              "      <td>False</td>\n",
              "      <td>False</td>\n",
              "      <td>False</td>\n",
              "      <td>False</td>\n",
              "    </tr>\n",
              "    <tr>\n",
              "      <th>987</th>\n",
              "      <td>False</td>\n",
              "      <td>False</td>\n",
              "      <td>False</td>\n",
              "      <td>False</td>\n",
              "      <td>False</td>\n",
              "      <td>False</td>\n",
              "      <td>False</td>\n",
              "      <td>False</td>\n",
              "      <td>False</td>\n",
              "      <td>False</td>\n",
              "      <td>...</td>\n",
              "      <td>False</td>\n",
              "      <td>False</td>\n",
              "      <td>False</td>\n",
              "      <td>True</td>\n",
              "      <td>False</td>\n",
              "      <td>False</td>\n",
              "      <td>False</td>\n",
              "      <td>False</td>\n",
              "      <td>False</td>\n",
              "      <td>False</td>\n",
              "    </tr>\n",
              "    <tr>\n",
              "      <th>988</th>\n",
              "      <td>False</td>\n",
              "      <td>False</td>\n",
              "      <td>False</td>\n",
              "      <td>False</td>\n",
              "      <td>True</td>\n",
              "      <td>False</td>\n",
              "      <td>False</td>\n",
              "      <td>False</td>\n",
              "      <td>True</td>\n",
              "      <td>True</td>\n",
              "      <td>...</td>\n",
              "      <td>False</td>\n",
              "      <td>False</td>\n",
              "      <td>False</td>\n",
              "      <td>True</td>\n",
              "      <td>False</td>\n",
              "      <td>False</td>\n",
              "      <td>False</td>\n",
              "      <td>False</td>\n",
              "      <td>False</td>\n",
              "      <td>False</td>\n",
              "    </tr>\n",
              "  </tbody>\n",
              "</table>\n",
              "<p>989 rows × 21 columns</p>\n",
              "</div>\n",
              "    <div class=\"colab-df-buttons\">\n",
              "\n",
              "  <div class=\"colab-df-container\">\n",
              "    <button class=\"colab-df-convert\" onclick=\"convertToInteractive('df-1f283fab-8bd2-4938-a3f6-fdfdabda3ae2')\"\n",
              "            title=\"Convert this dataframe to an interactive table.\"\n",
              "            style=\"display:none;\">\n",
              "\n",
              "  <svg xmlns=\"http://www.w3.org/2000/svg\" height=\"24px\" viewBox=\"0 -960 960 960\">\n",
              "    <path d=\"M120-120v-720h720v720H120Zm60-500h600v-160H180v160Zm220 220h160v-160H400v160Zm0 220h160v-160H400v160ZM180-400h160v-160H180v160Zm440 0h160v-160H620v160ZM180-180h160v-160H180v160Zm440 0h160v-160H620v160Z\"/>\n",
              "  </svg>\n",
              "    </button>\n",
              "\n",
              "  <style>\n",
              "    .colab-df-container {\n",
              "      display:flex;\n",
              "      gap: 12px;\n",
              "    }\n",
              "\n",
              "    .colab-df-convert {\n",
              "      background-color: #E8F0FE;\n",
              "      border: none;\n",
              "      border-radius: 50%;\n",
              "      cursor: pointer;\n",
              "      display: none;\n",
              "      fill: #1967D2;\n",
              "      height: 32px;\n",
              "      padding: 0 0 0 0;\n",
              "      width: 32px;\n",
              "    }\n",
              "\n",
              "    .colab-df-convert:hover {\n",
              "      background-color: #E2EBFA;\n",
              "      box-shadow: 0px 1px 2px rgba(60, 64, 67, 0.3), 0px 1px 3px 1px rgba(60, 64, 67, 0.15);\n",
              "      fill: #174EA6;\n",
              "    }\n",
              "\n",
              "    .colab-df-buttons div {\n",
              "      margin-bottom: 4px;\n",
              "    }\n",
              "\n",
              "    [theme=dark] .colab-df-convert {\n",
              "      background-color: #3B4455;\n",
              "      fill: #D2E3FC;\n",
              "    }\n",
              "\n",
              "    [theme=dark] .colab-df-convert:hover {\n",
              "      background-color: #434B5C;\n",
              "      box-shadow: 0px 1px 3px 1px rgba(0, 0, 0, 0.15);\n",
              "      filter: drop-shadow(0px 1px 2px rgba(0, 0, 0, 0.3));\n",
              "      fill: #FFFFFF;\n",
              "    }\n",
              "  </style>\n",
              "\n",
              "    <script>\n",
              "      const buttonEl =\n",
              "        document.querySelector('#df-1f283fab-8bd2-4938-a3f6-fdfdabda3ae2 button.colab-df-convert');\n",
              "      buttonEl.style.display =\n",
              "        google.colab.kernel.accessAllowed ? 'block' : 'none';\n",
              "\n",
              "      async function convertToInteractive(key) {\n",
              "        const element = document.querySelector('#df-1f283fab-8bd2-4938-a3f6-fdfdabda3ae2');\n",
              "        const dataTable =\n",
              "          await google.colab.kernel.invokeFunction('convertToInteractive',\n",
              "                                                    [key], {});\n",
              "        if (!dataTable) return;\n",
              "\n",
              "        const docLinkHtml = 'Like what you see? Visit the ' +\n",
              "          '<a target=\"_blank\" href=https://colab.research.google.com/notebooks/data_table.ipynb>data table notebook</a>'\n",
              "          + ' to learn more about interactive tables.';\n",
              "        element.innerHTML = '';\n",
              "        dataTable['output_type'] = 'display_data';\n",
              "        await google.colab.output.renderOutput(dataTable, element);\n",
              "        const docLink = document.createElement('div');\n",
              "        docLink.innerHTML = docLinkHtml;\n",
              "        element.appendChild(docLink);\n",
              "      }\n",
              "    </script>\n",
              "  </div>\n",
              "\n",
              "\n",
              "<div id=\"df-70fae7e4-09f0-45f2-9883-be2b441df208\">\n",
              "  <button class=\"colab-df-quickchart\" onclick=\"quickchart('df-70fae7e4-09f0-45f2-9883-be2b441df208')\"\n",
              "            title=\"Suggest charts.\"\n",
              "            style=\"display:none;\">\n",
              "\n",
              "<svg xmlns=\"http://www.w3.org/2000/svg\" height=\"24px\"viewBox=\"0 0 24 24\"\n",
              "     width=\"24px\">\n",
              "    <g>\n",
              "        <path d=\"M19 3H5c-1.1 0-2 .9-2 2v14c0 1.1.9 2 2 2h14c1.1 0 2-.9 2-2V5c0-1.1-.9-2-2-2zM9 17H7v-7h2v7zm4 0h-2V7h2v10zm4 0h-2v-4h2v4z\"/>\n",
              "    </g>\n",
              "</svg>\n",
              "  </button>\n",
              "\n",
              "<style>\n",
              "  .colab-df-quickchart {\n",
              "      --bg-color: #E8F0FE;\n",
              "      --fill-color: #1967D2;\n",
              "      --hover-bg-color: #E2EBFA;\n",
              "      --hover-fill-color: #174EA6;\n",
              "      --disabled-fill-color: #AAA;\n",
              "      --disabled-bg-color: #DDD;\n",
              "  }\n",
              "\n",
              "  [theme=dark] .colab-df-quickchart {\n",
              "      --bg-color: #3B4455;\n",
              "      --fill-color: #D2E3FC;\n",
              "      --hover-bg-color: #434B5C;\n",
              "      --hover-fill-color: #FFFFFF;\n",
              "      --disabled-bg-color: #3B4455;\n",
              "      --disabled-fill-color: #666;\n",
              "  }\n",
              "\n",
              "  .colab-df-quickchart {\n",
              "    background-color: var(--bg-color);\n",
              "    border: none;\n",
              "    border-radius: 50%;\n",
              "    cursor: pointer;\n",
              "    display: none;\n",
              "    fill: var(--fill-color);\n",
              "    height: 32px;\n",
              "    padding: 0;\n",
              "    width: 32px;\n",
              "  }\n",
              "\n",
              "  .colab-df-quickchart:hover {\n",
              "    background-color: var(--hover-bg-color);\n",
              "    box-shadow: 0 1px 2px rgba(60, 64, 67, 0.3), 0 1px 3px 1px rgba(60, 64, 67, 0.15);\n",
              "    fill: var(--button-hover-fill-color);\n",
              "  }\n",
              "\n",
              "  .colab-df-quickchart-complete:disabled,\n",
              "  .colab-df-quickchart-complete:disabled:hover {\n",
              "    background-color: var(--disabled-bg-color);\n",
              "    fill: var(--disabled-fill-color);\n",
              "    box-shadow: none;\n",
              "  }\n",
              "\n",
              "  .colab-df-spinner {\n",
              "    border: 2px solid var(--fill-color);\n",
              "    border-color: transparent;\n",
              "    border-bottom-color: var(--fill-color);\n",
              "    animation:\n",
              "      spin 1s steps(1) infinite;\n",
              "  }\n",
              "\n",
              "  @keyframes spin {\n",
              "    0% {\n",
              "      border-color: transparent;\n",
              "      border-bottom-color: var(--fill-color);\n",
              "      border-left-color: var(--fill-color);\n",
              "    }\n",
              "    20% {\n",
              "      border-color: transparent;\n",
              "      border-left-color: var(--fill-color);\n",
              "      border-top-color: var(--fill-color);\n",
              "    }\n",
              "    30% {\n",
              "      border-color: transparent;\n",
              "      border-left-color: var(--fill-color);\n",
              "      border-top-color: var(--fill-color);\n",
              "      border-right-color: var(--fill-color);\n",
              "    }\n",
              "    40% {\n",
              "      border-color: transparent;\n",
              "      border-right-color: var(--fill-color);\n",
              "      border-top-color: var(--fill-color);\n",
              "    }\n",
              "    60% {\n",
              "      border-color: transparent;\n",
              "      border-right-color: var(--fill-color);\n",
              "    }\n",
              "    80% {\n",
              "      border-color: transparent;\n",
              "      border-right-color: var(--fill-color);\n",
              "      border-bottom-color: var(--fill-color);\n",
              "    }\n",
              "    90% {\n",
              "      border-color: transparent;\n",
              "      border-bottom-color: var(--fill-color);\n",
              "    }\n",
              "  }\n",
              "</style>\n",
              "\n",
              "  <script>\n",
              "    async function quickchart(key) {\n",
              "      const quickchartButtonEl =\n",
              "        document.querySelector('#' + key + ' button');\n",
              "      quickchartButtonEl.disabled = true;  // To prevent multiple clicks.\n",
              "      quickchartButtonEl.classList.add('colab-df-spinner');\n",
              "      try {\n",
              "        const charts = await google.colab.kernel.invokeFunction(\n",
              "            'suggestCharts', [key], {});\n",
              "      } catch (error) {\n",
              "        console.error('Error during call to suggestCharts:', error);\n",
              "      }\n",
              "      quickchartButtonEl.classList.remove('colab-df-spinner');\n",
              "      quickchartButtonEl.classList.add('colab-df-quickchart-complete');\n",
              "    }\n",
              "    (() => {\n",
              "      let quickchartButtonEl =\n",
              "        document.querySelector('#df-70fae7e4-09f0-45f2-9883-be2b441df208 button');\n",
              "      quickchartButtonEl.style.display =\n",
              "        google.colab.kernel.accessAllowed ? 'block' : 'none';\n",
              "    })();\n",
              "  </script>\n",
              "</div>\n",
              "    </div>\n",
              "  </div>\n"
            ]
          },
          "metadata": {},
          "execution_count": 13
        }
      ]
    },
    {
      "cell_type": "markdown",
      "source": [
        "## Percentage of missing values per column"
      ],
      "metadata": {
        "id": "PuqrU2_6_vAE"
      }
    },
    {
      "cell_type": "code",
      "source": [],
      "metadata": {
        "id": "CE-lOKvY_1H3"
      },
      "execution_count": null,
      "outputs": []
    },
    {
      "cell_type": "code",
      "source": [
        "missing_percentages = df.isna().sum().sort_values(ascending=False) / len(df)\n",
        "missing_percentages"
      ],
      "metadata": {
        "colab": {
          "base_uri": "https://localhost:8080/"
        },
        "id": "2aDlhFTQS4Bw",
        "outputId": "f8fca053-ed9c-47d9-9171-484c19e999b8"
      },
      "execution_count": 15,
      "outputs": [
        {
          "output_type": "execute_result",
          "data": {
            "text/plain": [
              "Overall motivation      0.976744\n",
              "Geo Point 2D            0.361982\n",
              "Geo Shape               0.361982\n",
              "Died city               0.348837\n",
              "Died country            0.342770\n",
              "Died country code       0.342770\n",
              "Died                    0.330637\n",
              "Organization city       0.269970\n",
              "Organization country    0.267947\n",
              "Organization name       0.264914\n",
              "Born                    0.040445\n",
              "Born city               0.033367\n",
              "Surname                 0.033367\n",
              "Born country code       0.031345\n",
              "Born country            0.031345\n",
              "Firstname               0.001011\n",
              "Year                    0.000000\n",
              "Motivation              0.000000\n",
              "Category                0.000000\n",
              "Gender                  0.000000\n",
              "Id                      0.000000\n",
              "dtype: float64"
            ]
          },
          "metadata": {},
          "execution_count": 15
        }
      ]
    },
    {
      "cell_type": "code",
      "source": [
        "type(missing_percentages)"
      ],
      "metadata": {
        "colab": {
          "base_uri": "https://localhost:8080/"
        },
        "id": "YIV8ojp5AuMF",
        "outputId": "1e3bcc78-3b6f-47d1-bd3a-68a74416ed9b"
      },
      "execution_count": 16,
      "outputs": [
        {
          "output_type": "execute_result",
          "data": {
            "text/plain": [
              "pandas.core.series.Series"
            ]
          },
          "metadata": {},
          "execution_count": 16
        }
      ]
    },
    {
      "cell_type": "code",
      "source": [
        "missing_percentages.plot(kind='barh')"
      ],
      "metadata": {
        "colab": {
          "base_uri": "https://localhost:8080/",
          "height": 448
        },
        "id": "oHqyV5zvAlG3",
        "outputId": "1f667571-ada4-4b1c-e893-dc12986a64fe"
      },
      "execution_count": 17,
      "outputs": [
        {
          "output_type": "execute_result",
          "data": {
            "text/plain": [
              "<Axes: >"
            ]
          },
          "metadata": {},
          "execution_count": 17
        },
        {
          "output_type": "display_data",
          "data": {
            "text/plain": [
              "<Figure size 640x480 with 1 Axes>"
            ],
            "image/png": "[encoded data removed]"
          },
          "metadata": {}
        }
      ]
    },
    {
      "cell_type": "markdown",
      "source": [
        "## exploratory analysis and visualisation\n",
        "\n",
        "columns to analyse\n",
        "- year\n",
        "- born\n",
        "- born country\n",
        "- city\n",
        "- gender\n"
      ],
      "metadata": {
        "id": "YGEyB4zeyf1I"
      }
    },
    {
      "cell_type": "code",
      "source": [
        "df.Year"
      ],
      "metadata": {
        "colab": {
          "base_uri": "https://localhost:8080/"
        },
        "id": "NI4olhczMlNa",
        "outputId": "6d23a226-3bad-46ef-c2ec-e55c5717ef68"
      },
      "execution_count": 18,
      "outputs": [
        {
          "output_type": "execute_result",
          "data": {
            "text/plain": [
              "0      2007\n",
              "1      1923\n",
              "2      1969\n",
              "3      1996\n",
              "4      1901\n",
              "       ... \n",
              "984    2002\n",
              "985    2003\n",
              "986    2005\n",
              "987    2005\n",
              "988    2005\n",
              "Name: Year, Length: 989, dtype: int64"
            ]
          },
          "metadata": {},
          "execution_count": 18
        }
      ]
    },
    {
      "cell_type": "code",
      "source": [
        "nobelPrize_year = df.Year.value_counts()\n",
        "nobelPrize_year"
      ],
      "metadata": {
        "colab": {
          "base_uri": "https://localhost:8080/"
        },
        "id": "d0dp5ne1cwpk",
        "outputId": "2443eaac-1dc0-4dd6-f4d3-87901ef97ad7"
      },
      "execution_count": 19,
      "outputs": [
        {
          "output_type": "execute_result",
          "data": {
            "text/plain": [
              "2001    15\n",
              "2019    14\n",
              "2022    14\n",
              "2014    13\n",
              "1996    13\n",
              "        ..\n",
              "1948     4\n",
              "1924     3\n",
              "1914     3\n",
              "1918     2\n",
              "1916     1\n",
              "Name: Year, Length: 119, dtype: int64"
            ]
          },
          "metadata": {},
          "execution_count": 19
        }
      ]
    },
    {
      "cell_type": "code",
      "source": [
        "nobelPrize_year[:10]"
      ],
      "metadata": {
        "colab": {
          "base_uri": "https://localhost:8080/"
        },
        "id": "SX6-JylmcSlD",
        "outputId": "5720eb10-20d2-4848-a24f-85e2d1f730d2"
      },
      "execution_count": null,
      "outputs": [
        {
          "output_type": "execute_result",
          "data": {
            "text/plain": [
              "2001    15\n",
              "2019    14\n",
              "2022    14\n",
              "2014    13\n",
              "1996    13\n",
              "2011    13\n",
              "2013    13\n",
              "2002    13\n",
              "2018    13\n",
              "2009    13\n",
              "Name: Year, dtype: int64"
            ]
          },
          "metadata": {},
          "execution_count": 19
        }
      ]
    },
    {
      "cell_type": "code",
      "source": [
        "df.Firstname"
      ],
      "metadata": {
        "id": "UUO9FDpSynBm",
        "colab": {
          "base_uri": "https://localhost:8080/"
        },
        "outputId": "9e44b2de-c4cc-4d24-8bce-2a990ce2b495"
      },
      "execution_count": null,
      "outputs": [
        {
          "output_type": "execute_result",
          "data": {
            "text/plain": [
              "0                     Leonid\n",
              "1                  Robert A.\n",
              "2                     Murray\n",
              "3      Carlos Filipe Ximenes\n",
              "4                      Sully\n",
              "               ...          \n",
              "984                  John B.\n",
              "985                   Alexei\n",
              "986                   Roy J.\n",
              "987                     Yves\n",
              "988                Robert J.\n",
              "Name: Firstname, Length: 989, dtype: object"
            ]
          },
          "metadata": {},
          "execution_count": 20
        }
      ]
    },
    {
      "cell_type": "code",
      "source": [
        "Firstname = df.Firstname"
      ],
      "metadata": {
        "id": "ZbsaHmzmFDwB"
      },
      "execution_count": 30,
      "outputs": []
    },
    {
      "cell_type": "code",
      "source": [
        "len(Firstname)"
      ],
      "metadata": {
        "colab": {
          "base_uri": "https://localhost:8080/"
        },
        "id": "wR500gV_E6Z6",
        "outputId": "02da2305-f91d-437b-9e30-d3dc84c1422d"
      },
      "execution_count": null,
      "outputs": [
        {
          "output_type": "execute_result",
          "data": {
            "text/plain": [
              "989"
            ]
          },
          "metadata": {},
          "execution_count": 24
        }
      ]
    },
    {
      "cell_type": "code",
      "source": [
        "import matplotlib.pyplot as plt\n",
        "\n",
        "\n",
        "df_sorted = df.sort_values(by='Year')\n",
        "first_20_laureates = df.head(20)\n",
        "\n",
        "\n",
        "plt.figure(figsize=(10, 6))\n",
        "plt.bar(first_20_laureates['Surname'], first_20_laureates['Year'], color='skyblue')\n",
        "plt.xlabel('Nobel Laureate')\n",
        "plt.ylabel('Year of Nobel Prize')\n",
        "plt.title('First 20 Nobel Laureates and Their Prize Years (1900-2020)')\n",
        "plt.xticks(rotation=90)\n",
        "plt.ylim(1900, 2020)\n",
        "plt.tight_layout()\n",
        "plt.show()\n",
        "\n",
        "\n",
        "\n",
        "\n"
      ],
      "metadata": {
        "colab": {
          "base_uri": "https://localhost:8080/",
          "height": 607
        },
        "id": "qnrOAQhTiDQc",
        "outputId": "454197b4-0bd1-4606-8d50-1d4a73c914f4"
      },
      "execution_count": 37,
      "outputs": [
        {
          "output_type": "display_data",
          "data": {
            "text/plain": [
              "<Figure size 1000x600 with 1 Axes>"
            ],
            "image/png": "[encoded data removed]"
          },
          "metadata": {}
        }
      ]
    },
    {
      "cell_type": "code",
      "source": [
        "import seaborn as sns\n",
        "sns.set_style(\"darkgrid\")"
      ],
      "metadata": {
        "id": "-TvFxN09Mnod"
      },
      "execution_count": null,
      "outputs": []
    },
    {
      "cell_type": "code",
      "source": [
        "sns.histplot(nobelPrize_year)"
      ],
      "metadata": {
        "colab": {
          "base_uri": "https://localhost:8080/",
          "height": 467
        },
        "id": "O60ExGp9h5gK",
        "outputId": "f0904fc2-fdd3-4b60-aa2a-64ad42ade1b2"
      },
      "execution_count": null,
      "outputs": [
        {
          "output_type": "execute_result",
          "data": {
            "text/plain": [
              "<Axes: xlabel='Year', ylabel='Count'>"
            ]
          },
          "metadata": {},
          "execution_count": 23
        },
        {
          "output_type": "display_data",
          "data": {
            "text/plain": [
              "<Figure size 640x480 with 1 Axes>"
            ],
            "image/png": "[encoded data removed]"
          },
          "metadata": {}
        }
      ]
    },
    {
      "cell_type": "code",
      "source": [
        "sns.distplot(nobelPrize_year)"
      ],
      "metadata": {
        "colab": {
          "base_uri": "https://localhost:8080/",
          "height": 673
        },
        "id": "LEZhTAAWh5cU",
        "outputId": "1b3612d4-01a4-41af-c59a-177dca7e1f69"
      },
      "execution_count": null,
      "outputs": [
        {
          "output_type": "stream",
          "name": "stderr",
          "text": [
            "<ipython-input-24-e78829e052d1>:1: UserWarning: \n",
            "\n",
            "`distplot` is a deprecated function and will be removed in seaborn v0.14.0.\n",
            "\n",
            "Please adapt your code to use either `displot` (a figure-level function with\n",
            "similar flexibility) or `histplot` (an axes-level function for histograms).\n",
            "\n",
            "For a guide to updating your code to use the new functions, please see\n",
            "https://gist.github.com/mwaskom/de44147ed2974457ad6372750bbe5751\n",
            "\n",
            "  sns.distplot(nobelPrize_year)\n"
          ]
        },
        {
          "output_type": "execute_result",
          "data": {
            "text/plain": [
              "<Axes: xlabel='Year', ylabel='Density'>"
            ]
          },
          "metadata": {},
          "execution_count": 24
        },
        {
          "output_type": "display_data",
          "data": {
            "text/plain": [
              "<Figure size 640x480 with 1 Axes>"
            ],
            "image/png": "[encoded data removed]"
          },
          "metadata": {}
        }
      ]
    },
    {
      "cell_type": "code",
      "source": [],
      "metadata": {
        "id": "nlrK79VPh5Yz"
      },
      "execution_count": null,
      "outputs": []
    },
    {
      "cell_type": "markdown",
      "source": [
        "## born"
      ],
      "metadata": {
        "id": "Zd3MapR3nj3v"
      }
    },
    {
      "cell_type": "code",
      "source": [
        "df.columns"
      ],
      "metadata": {
        "colab": {
          "base_uri": "https://localhost:8080/"
        },
        "id": "5LGY8kq57Y96",
        "outputId": "c31d3aa8-9ae0-46b7-9d9c-3ba12c46e3f4"
      },
      "execution_count": null,
      "outputs": [
        {
          "output_type": "execute_result",
          "data": {
            "text/plain": [
              "Index(['Id', 'Firstname', 'Surname', 'Born', 'Died', 'Born country',\n",
              "       'Born country code', 'Born city', 'Died country', 'Died country code',\n",
              "       'Died city', 'Gender', 'Year', 'Category', 'Overall motivation',\n",
              "       'Motivation', 'Organization name', 'Organization city',\n",
              "       'Organization country', 'Geo Shape', 'Geo Point 2D'],\n",
              "      dtype='object')"
            ]
          },
          "metadata": {},
          "execution_count": 29
        }
      ]
    },
    {
      "cell_type": "code",
      "source": [
        "df['Born country']"
      ],
      "metadata": {
        "colab": {
          "base_uri": "https://localhost:8080/"
        },
        "id": "rAHEHt8Y7f79",
        "outputId": "5d463eb3-de02-4329-cdeb-492fc431d8a6"
      },
      "execution_count": null,
      "outputs": [
        {
          "output_type": "execute_result",
          "data": {
            "text/plain": [
              "0                 Russia\n",
              "1                    USA\n",
              "2                    USA\n",
              "3             East Timor\n",
              "4                 France\n",
              "             ...        \n",
              "984                  USA\n",
              "985    USSR (now Russia)\n",
              "986                  USA\n",
              "987              Belgium\n",
              "988              Germany\n",
              "Name: Born country, Length: 989, dtype: object"
            ]
          },
          "metadata": {},
          "execution_count": 48
        }
      ]
    },
    {
      "cell_type": "code",
      "source": [
        "first_100_born_countries = nobel_Prize['Born Country'].head(100)\n",
        "print(first_100_born_countries)"
      ],
      "metadata": {
        "colab": {
          "base_uri": "https://localhost:8080/",
          "height": 200
        },
        "id": "R1A9w655Qhtk",
        "outputId": "dc7a3b2a-d1b9-4c36-b22c-bfdeb3ce3b1a"
      },
      "execution_count": null,
      "outputs": [
        {
          "output_type": "error",
          "ename": "NameError",
          "evalue": "ignored",
          "traceback": [
            "\u001b[0;31m---------------------------------------------------------------------------\u001b[0m",
            "\u001b[0;31mNameError\u001b[0m                                 Traceback (most recent call last)",
            "\u001b[0;32m<ipython-input-54-0357ac765a8f>\u001b[0m in \u001b[0;36m<cell line: 1>\u001b[0;34m()\u001b[0m\n\u001b[0;32m----> 1\u001b[0;31m \u001b[0mfirst_100_born_countries\u001b[0m \u001b[0;34m=\u001b[0m \u001b[0mnobel_Prize\u001b[0m\u001b[0;34m[\u001b[0m\u001b[0;34m'Born Country'\u001b[0m\u001b[0;34m]\u001b[0m\u001b[0;34m.\u001b[0m\u001b[0mhead\u001b[0m\u001b[0;34m(\u001b[0m\u001b[0;36m100\u001b[0m\u001b[0;34m)\u001b[0m\u001b[0;34m\u001b[0m\u001b[0;34m\u001b[0m\u001b[0m\n\u001b[0m\u001b[1;32m      2\u001b[0m \u001b[0mprint\u001b[0m\u001b[0;34m(\u001b[0m\u001b[0mfirst_100_born_countries\u001b[0m\u001b[0;34m)\u001b[0m\u001b[0;34m\u001b[0m\u001b[0;34m\u001b[0m\u001b[0m\n",
            "\u001b[0;31mNameError\u001b[0m: name 'nobel_Prize' is not defined"
          ]
        }
      ]
    },
    {
      "cell_type": "code",
      "source": [],
      "metadata": {
        "id": "mkpy2l8_Qhpa"
      },
      "execution_count": null,
      "outputs": []
    },
    {
      "cell_type": "code",
      "source": [
        "df['Born country'][0]"
      ],
      "metadata": {
        "colab": {
          "base_uri": "https://localhost:8080/",
          "height": 36
        },
        "id": "j5ACo0Bg8BPf",
        "outputId": "7db97874-156b-4842-c2fe-a9ee54aee819"
      },
      "execution_count": null,
      "outputs": [
        {
          "output_type": "execute_result",
          "data": {
            "text/plain": [
              "'Russia'"
            ],
            "application/vnd.google.colaboratory.intrinsic+json": {
              "type": "string"
            }
          },
          "metadata": {},
          "execution_count": 25
        }
      ]
    },
    {
      "cell_type": "code",
      "source": [
        "sns.distplot(df['Born country'])"
      ],
      "metadata": {
        "colab": {
          "base_uri": "https://localhost:8080/",
          "height": 956
        },
        "id": "zZ9-9iC_9mye",
        "outputId": "06a01bc7-87e0-4b86-b6a4-82c57c42ef8b"
      },
      "execution_count": null,
      "outputs": [
        {
          "output_type": "stream",
          "name": "stderr",
          "text": [
            "<ipython-input-26-6ce3dcd6731d>:1: UserWarning: \n",
            "\n",
            "`distplot` is a deprecated function and will be removed in seaborn v0.14.0.\n",
            "\n",
            "Please adapt your code to use either `displot` (a figure-level function with\n",
            "similar flexibility) or `histplot` (an axes-level function for histograms).\n",
            "\n",
            "For a guide to updating your code to use the new functions, please see\n",
            "https://gist.github.com/mwaskom/de44147ed2974457ad6372750bbe5751\n",
            "\n",
            "  sns.distplot(df['Born country'])\n"
          ]
        },
        {
          "output_type": "error",
          "ename": "ValueError",
          "evalue": "ignored",
          "traceback": [
            "\u001b[0;31m---------------------------------------------------------------------------\u001b[0m",
            "\u001b[0;31mValueError\u001b[0m                                Traceback (most recent call last)",
            "\u001b[0;32m<ipython-input-26-6ce3dcd6731d>\u001b[0m in \u001b[0;36m<cell line: 1>\u001b[0;34m()\u001b[0m\n\u001b[0;32m----> 1\u001b[0;31m \u001b[0msns\u001b[0m\u001b[0;34m.\u001b[0m\u001b[0mdistplot\u001b[0m\u001b[0;34m(\u001b[0m\u001b[0mdf\u001b[0m\u001b[0;34m[\u001b[0m\u001b[0;34m'Born country'\u001b[0m\u001b[0;34m]\u001b[0m\u001b[0;34m)\u001b[0m\u001b[0;34m\u001b[0m\u001b[0;34m\u001b[0m\u001b[0m\n\u001b[0m",
            "\u001b[0;32m/usr/local/lib/python3.10/dist-packages/seaborn/distributions.py\u001b[0m in \u001b[0;36mdistplot\u001b[0;34m(a, bins, hist, kde, rug, fit, hist_kws, kde_kws, rug_kws, fit_kws, color, vertical, norm_hist, axlabel, label, ax, x)\u001b[0m\n\u001b[1;32m   2456\u001b[0m \u001b[0;34m\u001b[0m\u001b[0m\n\u001b[1;32m   2457\u001b[0m     \u001b[0;31m# Make a a 1-d float array\u001b[0m\u001b[0;34m\u001b[0m\u001b[0;34m\u001b[0m\u001b[0m\n\u001b[0;32m-> 2458\u001b[0;31m     \u001b[0ma\u001b[0m \u001b[0;34m=\u001b[0m \u001b[0mnp\u001b[0m\u001b[0;34m.\u001b[0m\u001b[0masarray\u001b[0m\u001b[0;34m(\u001b[0m\u001b[0ma\u001b[0m\u001b[0;34m,\u001b[0m \u001b[0mfloat\u001b[0m\u001b[0;34m)\u001b[0m\u001b[0;34m\u001b[0m\u001b[0;34m\u001b[0m\u001b[0m\n\u001b[0m\u001b[1;32m   2459\u001b[0m     \u001b[0;32mif\u001b[0m \u001b[0ma\u001b[0m\u001b[0;34m.\u001b[0m\u001b[0mndim\u001b[0m \u001b[0;34m>\u001b[0m \u001b[0;36m1\u001b[0m\u001b[0;34m:\u001b[0m\u001b[0;34m\u001b[0m\u001b[0;34m\u001b[0m\u001b[0m\n\u001b[1;32m   2460\u001b[0m         \u001b[0ma\u001b[0m \u001b[0;34m=\u001b[0m \u001b[0ma\u001b[0m\u001b[0;34m.\u001b[0m\u001b[0msqueeze\u001b[0m\u001b[0;34m(\u001b[0m\u001b[0;34m)\u001b[0m\u001b[0;34m\u001b[0m\u001b[0;34m\u001b[0m\u001b[0m\n",
            "\u001b[0;32m/usr/local/lib/python3.10/dist-packages/pandas/core/series.py\u001b[0m in \u001b[0;36m__array__\u001b[0;34m(self, dtype)\u001b[0m\n\u001b[1;32m    891\u001b[0m               dtype='datetime64[ns]')\n\u001b[1;32m    892\u001b[0m         \"\"\"\n\u001b[0;32m--> 893\u001b[0;31m         \u001b[0;32mreturn\u001b[0m \u001b[0mnp\u001b[0m\u001b[0;34m.\u001b[0m\u001b[0masarray\u001b[0m\u001b[0;34m(\u001b[0m\u001b[0mself\u001b[0m\u001b[0;34m.\u001b[0m\u001b[0m_values\u001b[0m\u001b[0;34m,\u001b[0m \u001b[0mdtype\u001b[0m\u001b[0;34m)\u001b[0m\u001b[0;34m\u001b[0m\u001b[0;34m\u001b[0m\u001b[0m\n\u001b[0m\u001b[1;32m    894\u001b[0m \u001b[0;34m\u001b[0m\u001b[0m\n\u001b[1;32m    895\u001b[0m     \u001b[0;31m# ----------------------------------------------------------------------\u001b[0m\u001b[0;34m\u001b[0m\u001b[0;34m\u001b[0m\u001b[0m\n",
            "\u001b[0;31mValueError\u001b[0m: could not convert string to float: 'Russia'"
          ]
        },
        {
          "output_type": "display_data",
          "data": {
            "text/plain": [
              "<Figure size 640x480 with 1 Axes>"
            ],
            "image/png": "[encoded data removed]"
          },
          "metadata": {}
        }
      ]
    },
    {
      "cell_type": "code",
      "source": [
        "import matplotlib.pyplot as plt"
      ],
      "metadata": {
        "id": "LQvHXYRmAD1F"
      },
      "execution_count": null,
      "outputs": []
    },
    {
      "cell_type": "code",
      "source": [
        "countries = ['USA', 'Canada', 'UK', 'Sweden' , 'Japan' , 'Norway' , 'Russian empire' , 'Germany' , 'Australia' , 'Canada']\n",
        "filtered_data = df[df['Born country'].isin(countries)]"
      ],
      "metadata": {
        "id": "Q9N4NUdgBiAD"
      },
      "execution_count": null,
      "outputs": []
    },
    {
      "cell_type": "code",
      "source": [
        "country_counts = filtered_data['Born country'].value_counts().reset_index()\n",
        "country_counts.columns = ['Born country', 'Count']"
      ],
      "metadata": {
        "id": "r7Dn79xSBh84"
      },
      "execution_count": null,
      "outputs": []
    },
    {
      "cell_type": "code",
      "source": [
        "import matplotlib.pyplot as plt\n",
        "\n",
        "# trying to create barplot after filtering\n",
        "plt.figure(figsize=(10, 6))\n",
        "plt.bar(country_counts['Born country'], country_counts['Count'])\n",
        "plt.xlabel('Born Country')\n",
        "plt.ylabel('Count')\n",
        "plt.title('Distribution of Born Countries')\n",
        "plt.xticks(rotation=45)  # Rotate x-axis labels for better readability\n",
        "plt.show()"
      ],
      "metadata": {
        "colab": {
          "base_uri": "https://localhost:8080/",
          "height": 605
        },
        "id": "_odCuSBfBh5c",
        "outputId": "3368eb02-0f15-4113-a4ce-1d36c231a066"
      },
      "execution_count": null,
      "outputs": [
        {
          "output_type": "display_data",
          "data": {
            "text/plain": [
              "<Figure size 1000x600 with 1 Axes>"
            ],
            "image/png": "[encoded data removed]"
          },
          "metadata": {}
        }
      ]
    },
    {
      "cell_type": "code",
      "source": [
        "pip install plotly"
      ],
      "metadata": {
        "colab": {
          "base_uri": "https://localhost:8080/"
        },
        "id": "ErAtfzTOJjDn",
        "outputId": "ea6db918-68cc-403f-c822-e19cd5fde8e4"
      },
      "execution_count": null,
      "outputs": [
        {
          "output_type": "stream",
          "name": "stdout",
          "text": [
            "Requirement already satisfied: plotly in /usr/local/lib/python3.10/dist-packages (5.15.0)\n",
            "Requirement already satisfied: tenacity>=6.2.0 in /usr/local/lib/python3.10/dist-packages (from plotly) (8.2.3)\n",
            "Requirement already satisfied: packaging in /usr/local/lib/python3.10/dist-packages (from plotly) (23.1)\n"
          ]
        }
      ]
    },
    {
      "cell_type": "code",
      "source": [
        "import plotly.express as px"
      ],
      "metadata": {
        "id": "fVpXaChBN33P"
      },
      "execution_count": null,
      "outputs": []
    },
    {
      "cell_type": "markdown",
      "source": [],
      "metadata": {
        "id": "RlQcMHIQynYQ"
      }
    },
    {
      "cell_type": "markdown",
      "source": [
        "## Gender\n"
      ],
      "metadata": {
        "id": "3cmpZAAvSZ8Q"
      }
    },
    {
      "cell_type": "code",
      "source": [
        "df.Gender"
      ],
      "metadata": {
        "colab": {
          "base_uri": "https://localhost:8080/"
        },
        "id": "FqsbgXNOSck2",
        "outputId": "cf25db59-d9bc-4926-db47-b03d3093f6fe"
      },
      "execution_count": 24,
      "outputs": [
        {
          "output_type": "execute_result",
          "data": {
            "text/plain": [
              "0      male\n",
              "1      male\n",
              "2      male\n",
              "3      male\n",
              "4      male\n",
              "       ... \n",
              "984    male\n",
              "985    male\n",
              "986    male\n",
              "987    male\n",
              "988    male\n",
              "Name: Gender, Length: 989, dtype: object"
            ]
          },
          "metadata": {},
          "execution_count": 24
        }
      ]
    },
    {
      "cell_type": "code",
      "source": [
        "your_dataframe = pd.read_csv('/content/nobel-prize/nobel-prize-laureates.csv', delimiter='\\t')"
      ],
      "metadata": {
        "id": "bjEhklHhXC4U"
      },
      "execution_count": null,
      "outputs": []
    },
    {
      "cell_type": "code",
      "source": [
        "len(df[\"Gender\"]==\"male\")"
      ],
      "metadata": {
        "colab": {
          "base_uri": "https://localhost:8080/"
        },
        "id": "LZPIVV7oSchU",
        "outputId": "5b24a289-5114-483a-e6ac-acb23a9a5368"
      },
      "execution_count": null,
      "outputs": [
        {
          "output_type": "execute_result",
          "data": {
            "text/plain": [
              "989"
            ]
          },
          "metadata": {},
          "execution_count": 33
        }
      ]
    },
    {
      "cell_type": "code",
      "source": [
        "female_count = (df['Gender'] == 'Female').sum()\n",
        "print(\"Number of Female Nobel Prize Laureates:\", female_count)"
      ],
      "metadata": {
        "colab": {
          "base_uri": "https://localhost:8080/"
        },
        "id": "OwSA1VLqcVzD",
        "outputId": "69996ed6-0577-4f54-9383-7fe1a0ee196a"
      },
      "execution_count": 26,
      "outputs": [
        {
          "output_type": "stream",
          "name": "stdout",
          "text": [
            "Number of Female Nobel Prize Laureates: 0\n"
          ]
        }
      ]
    },
    {
      "cell_type": "code",
      "source": [],
      "metadata": {
        "id": "pgwFm57EcVuN"
      },
      "execution_count": null,
      "outputs": []
    },
    {
      "cell_type": "code",
      "source": [],
      "metadata": {
        "id": "LPwSzXDRcVpa"
      },
      "execution_count": null,
      "outputs": []
    },
    {
      "cell_type": "markdown",
      "source": [
        "ask and answer questions\n",
        "\n",
        "- what is the male female ratio of nobel prize winners\n",
        "- which state has the highest number of nobel prize winners"
      ],
      "metadata": {
        "id": "IveQDuZGyqkz"
      }
    },
    {
      "cell_type": "code",
      "source": [],
      "metadata": {
        "id": "7d6puSuTyuV4"
      },
      "execution_count": null,
      "outputs": []
    },
    {
      "cell_type": "markdown",
      "source": [
        "summary and conclusion\n",
        "- only 1 was awarded the nobel prize in 1916\n",
        "- the most number was awarded in the year 2001\n",
        "\n",
        "- from the barplot we can understand most of the nobel prize laureates were born in USA\n",
        "- And from the data we filtered, the country with least number of laureates is australia"
      ],
      "metadata": {
        "id": "-_k1c9whyumJ"
      }
    },
    {
      "cell_type": "code",
      "source": [],
      "metadata": {
        "id": "_iPKyB-8ywWD"
      },
      "execution_count": null,
      "outputs": []
    }
  ],
  "metadata": {
    "kernelspec": {
      "display_name": "Python 3",
      "name": "python3"
    },
    "language_info": {
      "codemirror_mode": {
        "name": "ipython",
        "version": 3
      },
      "file_extension": ".py",
      "mimetype": "text/x-python",
      "name": "python",
      "nbconvert_exporter": "python",
      "pygments_lexer": "ipython3",
      "version": "3.7.6"
    },
    "colab": {
      "provenance": [],
      "gpuType": "T4",
      "toc_visible": true,
      "include_colab_link": true
    }
  },
  "nbformat": 4,
  "nbformat_minor": 0
}